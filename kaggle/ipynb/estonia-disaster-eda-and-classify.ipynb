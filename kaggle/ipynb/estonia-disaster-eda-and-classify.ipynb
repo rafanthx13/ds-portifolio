{
 "cells": [
  {
   "cell_type": "markdown",
   "execution_count": null,
   "metadata": {
    "papermill": {
     "duration": 0.023739,
     "end_time": "2020-08-23T22:00:35.355831",
     "exception": false,
     "start_time": "2020-08-23T22:00:35.332092",
     "status": "completed"
    },
    "tags": []
   },
   "source": [
    "<div style=\"text-align: center;\">\n",
    "\n",
    "# Estonia Disaster Passanger List: EDA + Classification\n",
    "\n",
    "<h3 align=\"center\">Made by 🚀 <a href=\"https://www.kaggle.com/rafanthx13\"> Rafael Morais de Assis</a></h3>\n",
    "    \n",
    "<img src=\"https://upload.wikimedia.org/wikipedia/commons/1/1a/MS_Estonia_model.jpg\" width=\"50%\"/>\n",
    "    \n",
    "</div> <br>\n",
    "\n",
    "\n",
    "Created: 2020-08-21; \n",
    "\n",
    "Last updated: 2020-08-23;\n"
   ]
  },
  {
   "cell_type": "markdown",
   "execution_count": null,
   "metadata": {
    "papermill": {
     "duration": 0.021211,
     "end_time": "2020-08-23T22:00:35.398348",
     "exception": false,
     "start_time": "2020-08-23T22:00:35.377137",
     "status": "completed"
    },
    "tags": []
   },
   "source": [
    "## Kaggle Description\n",
    "\n",
    "[Kaggle Link](https://www.kaggle.com/christianlillelund/passenger-list-for-the-estonia-ferry-disaster)\n",
    "\n",
    "Read more: https://en.wikipedia.org/wiki/MS_Estonia\n",
    "\n",
    "### Facts\n",
    "\n",
    "When was the Sinking of the Estonia: September 28, 1994\n",
    "Where was the Sinking of the Estonia: Near the Turku Archipelago, in the Baltic Sea\n",
    "What was the Sinking of the Estonia death toll: 852 passengers and crew\n",
    "\n",
    "Interesting things to investigate about the data:\n",
    "\n",
    "Who's more likely to survive the sinking based on data?\n",
    "Is age an indicator for survival?\n",
    "Is gender an indicator for survival?\n",
    "Did the crew aboard have a higher chance of survival than passengers?\n",
    "Since the death toll is well above 80%, can you make a classifier that beats the baseline (all passengers died)?\n",
    "\n",
    "### Data Dictionary\n",
    "\n",
    "| Variable  | Definition                              | Key                     |\n",
    "| :-------- | :-------------------------------------- | :---------------------- |\n",
    "| Country   | Country of origin                       |                         |\n",
    "| Firstname | Firstname of passenger                  |                         |\n",
    "| Lastname  | Lastname of passenger                   |                         |\n",
    "| Sex       | Gender of passenger                     | M = Male, F = Female    |\n",
    "| Age       | Age of passenger at the time of sinking |                         |\n",
    "| Category  | The type of passenger                   | C = Crew, P = Passenger |\n",
    "| Survived  | Survival                                | 0 = No, 1 = Yes   "
   ]
  },
  {
   "cell_type": "markdown",
   "execution_count": null,
   "metadata": {
    "papermill": {
     "duration": 0.020192,
     "end_time": "2020-08-23T22:00:35.439475",
     "exception": false,
     "start_time": "2020-08-23T22:00:35.419283",
     "status": "completed"
    },
    "tags": []
   },
   "source": [
    "## Table Of Contents (TOC) <a id=\"top\"></a>\n",
    "\n",
    "+ [Import Libs and DataSet](#index01) \n",
    "+ [Snippets](#index02)\n",
    "+ [EDA](#index03)\n",
    "  - [Check Missing Data](#index04)\n",
    "  - [Check Duplicate Data](#index05)\n",
    "  - [Each Feature Individually](#index06)\n",
    "  - [With Survived](#index07)\n",
    "+ [Correlation](#index11)\n",
    "+ [Unbalanced DataSet](#index09)\n",
    "+ [Pre-Processing](#index23)\n",
    "+ [Split in Train Test a Unbalanced DataSet](#index24)\n",
    "+ [Test various ways to correct unbalanced dataset](#index25)\n",
    "+ [Fit multiple models and Compare](#index26)\n",
    "+ [Best Individual Model: AdaBoost](#index27)\n",
    "+ [Super Leaner (MLens)](#index28)\n",
    "+ [Save and Load a Model](#index29)\n",
    "+ [Conclusion](#index30)\n"
   ]
  },
  {
   "cell_type": "markdown",
   "execution_count": null,
   "metadata": {
    "papermill": {
     "duration": 0.019885,
     "end_time": "2020-08-23T22:00:35.479251",
     "exception": false,
     "start_time": "2020-08-23T22:00:35.459366",
     "status": "completed"
    },
    "tags": []
   },
   "source": [
    "## Import Libs and DataSet Snippets <a id='index01'></a> <a href=\"#top\" class=\"btn btn-primary btn-sm\" role=\"button\" aria-pressed=\"true\" style=\"color:white; margin-left: 20px;\" data-toggle=\"popover\">Go to TOC</a>"
   ]
  },
  {
   "cell_type": "code",
   "execution_count": 1,
   "metadata": {
    "_cell_guid": "b1076dfc-b9ad-4769-8c92-a6c4dae69d19",
    "_uuid": "8f2839f25d086af736a60e9eeb907d3b93b6e0e5",
    "execution": {
     "iopub.execute_input": "2020-08-23T22:00:35.532994Z",
     "iopub.status.busy": "2020-08-23T22:00:35.531622Z",
     "iopub.status.idle": "2020-08-23T22:00:36.910464Z",
     "shell.execute_reply": "2020-08-23T22:00:36.909644Z"
    },
    "papermill": {
     "duration": 1.410817,
     "end_time": "2020-08-23T22:00:36.910612",
     "exception": false,
     "start_time": "2020-08-23T22:00:35.499795",
     "status": "completed"
    },
    "tags": []
   },
   "outputs": [
    {
     "name": "stdout",
     "output_type": "stream",
     "text": [
      "/kaggle/input/passenger-list-for-the-estonia-ferry-disaster/estonia-passenger-list.csv\n"
     ]
    }
   ],
   "source": [
    "import numpy as np\n",
    "import pandas as pd\n",
    "import matplotlib.pyplot as plt\n",
    "import seaborn as sns\n",
    "\n",
    "import warnings\n",
    "warnings.filterwarnings(\"ignore\")\n",
    "\n",
    "from sklearn.metrics import confusion_matrix\n",
    "from sklearn.metrics import classification_report\n",
    "\n",
    "import os\n",
    "for dirname, _, filenames in os.walk('/kaggle/input'):\n",
    "    for filename in filenames:\n",
    "        print(os.path.join(dirname, filename))\n",
    "        \n",
    "pd.options.display.float_format = '{:,.4f}'.format\n",
    "sns.set(style=\"whitegrid\")"
   ]
  },
  {
   "cell_type": "code",
   "execution_count": 2,
   "metadata": {
    "_cell_guid": "79c7e3d0-c299-4dcb-8224-4455121ee9b0",
    "_uuid": "d629ff2d2480ee46fbb7e2d37f6b5fab8052498a",
    "execution": {
     "iopub.execute_input": "2020-08-23T22:00:36.962850Z",
     "iopub.status.busy": "2020-08-23T22:00:36.961334Z",
     "iopub.status.idle": "2020-08-23T22:00:37.005494Z",
     "shell.execute_reply": "2020-08-23T22:00:37.006317Z"
    },
    "papermill": {
     "duration": 0.074766,
     "end_time": "2020-08-23T22:00:37.006553",
     "exception": false,
     "start_time": "2020-08-23T22:00:36.931787",
     "status": "completed"
    },
    "tags": []
   },
   "outputs": [
    {
     "name": "stdout",
     "output_type": "stream",
     "text": [
      "Shape of DataSet: 989 rows | 8 columns\n"
     ]
    },
    {
     "data": {
      "text/html": [
       "<div>\n",
       "<style scoped>\n",
       "    .dataframe tbody tr th:only-of-type {\n",
       "        vertical-align: middle;\n",
       "    }\n",
       "\n",
       "    .dataframe tbody tr th {\n",
       "        vertical-align: top;\n",
       "    }\n",
       "\n",
       "    .dataframe thead th {\n",
       "        text-align: right;\n",
       "    }\n",
       "</style>\n",
       "<table border=\"1\" class=\"dataframe\">\n",
       "  <thead>\n",
       "    <tr style=\"text-align: right;\">\n",
       "      <th></th>\n",
       "      <th>PassengerId</th>\n",
       "      <th>Country</th>\n",
       "      <th>Firstname</th>\n",
       "      <th>Lastname</th>\n",
       "      <th>Sex</th>\n",
       "      <th>Age</th>\n",
       "      <th>Category</th>\n",
       "      <th>Survived</th>\n",
       "    </tr>\n",
       "  </thead>\n",
       "  <tbody>\n",
       "    <tr>\n",
       "      <th>0</th>\n",
       "      <td>1</td>\n",
       "      <td>Sweden</td>\n",
       "      <td>ARVID KALLE</td>\n",
       "      <td>AADLI</td>\n",
       "      <td>M</td>\n",
       "      <td>62</td>\n",
       "      <td>P</td>\n",
       "      <td>0</td>\n",
       "    </tr>\n",
       "    <tr>\n",
       "      <th>1</th>\n",
       "      <td>2</td>\n",
       "      <td>Estonia</td>\n",
       "      <td>LEA</td>\n",
       "      <td>AALISTE</td>\n",
       "      <td>F</td>\n",
       "      <td>22</td>\n",
       "      <td>C</td>\n",
       "      <td>0</td>\n",
       "    </tr>\n",
       "    <tr>\n",
       "      <th>2</th>\n",
       "      <td>3</td>\n",
       "      <td>Estonia</td>\n",
       "      <td>AIRI</td>\n",
       "      <td>AAVASTE</td>\n",
       "      <td>F</td>\n",
       "      <td>21</td>\n",
       "      <td>C</td>\n",
       "      <td>0</td>\n",
       "    </tr>\n",
       "    <tr>\n",
       "      <th>3</th>\n",
       "      <td>4</td>\n",
       "      <td>Sweden</td>\n",
       "      <td>JURI</td>\n",
       "      <td>AAVIK</td>\n",
       "      <td>M</td>\n",
       "      <td>53</td>\n",
       "      <td>C</td>\n",
       "      <td>0</td>\n",
       "    </tr>\n",
       "    <tr>\n",
       "      <th>4</th>\n",
       "      <td>5</td>\n",
       "      <td>Sweden</td>\n",
       "      <td>BRITTA ELISABET</td>\n",
       "      <td>AHLSTROM</td>\n",
       "      <td>F</td>\n",
       "      <td>55</td>\n",
       "      <td>P</td>\n",
       "      <td>0</td>\n",
       "    </tr>\n",
       "  </tbody>\n",
       "</table>\n",
       "</div>"
      ],
      "text/plain": [
       "   PassengerId  Country        Firstname  Lastname Sex  Age Category  Survived\n",
       "0            1   Sweden      ARVID KALLE     AADLI   M   62        P         0\n",
       "1            2  Estonia              LEA   AALISTE   F   22        C         0\n",
       "2            3  Estonia             AIRI   AAVASTE   F   21        C         0\n",
       "3            4   Sweden             JURI     AAVIK   M   53        C         0\n",
       "4            5   Sweden  BRITTA ELISABET  AHLSTROM   F   55        P         0"
      ]
     },
     "execution_count": 2,
     "metadata": {},
     "output_type": "execute_result"
    }
   ],
   "source": [
    "df = pd.read_csv(\"/kaggle/input/passenger-list-for-the-estonia-ferry-disaster/estonia-passenger-list.csv\")\n",
    "print(\"Shape of DataSet:\", df.shape[0], 'rows |', df.shape[1], 'columns')\n",
    "df.head()"
   ]
  },
  {
   "cell_type": "code",
   "execution_count": 3,
   "metadata": {
    "execution": {
     "iopub.execute_input": "2020-08-23T22:00:37.073998Z",
     "iopub.status.busy": "2020-08-23T22:00:37.070241Z",
     "iopub.status.idle": "2020-08-23T22:00:37.078990Z",
     "shell.execute_reply": "2020-08-23T22:00:37.078106Z"
    },
    "papermill": {
     "duration": 0.051424,
     "end_time": "2020-08-23T22:00:37.079164",
     "exception": false,
     "start_time": "2020-08-23T22:00:37.027740",
     "status": "completed"
    },
    "tags": []
   },
   "outputs": [
    {
     "name": "stdout",
     "output_type": "stream",
     "text": [
      "<class 'pandas.core.frame.DataFrame'>\n",
      "RangeIndex: 989 entries, 0 to 988\n",
      "Data columns (total 8 columns):\n",
      " #   Column       Non-Null Count  Dtype \n",
      "---  ------       --------------  ----- \n",
      " 0   PassengerId  989 non-null    int64 \n",
      " 1   Country      989 non-null    object\n",
      " 2   Firstname    989 non-null    object\n",
      " 3   Lastname     989 non-null    object\n",
      " 4   Sex          989 non-null    object\n",
      " 5   Age          989 non-null    int64 \n",
      " 6   Category     989 non-null    object\n",
      " 7   Survived     989 non-null    int64 \n",
      "dtypes: int64(3), object(5)\n",
      "memory usage: 61.9+ KB\n"
     ]
    }
   ],
   "source": [
    "df.info()"
   ]
  },
  {
   "cell_type": "code",
   "execution_count": 4,
   "metadata": {
    "execution": {
     "iopub.execute_input": "2020-08-23T22:00:37.134923Z",
     "iopub.status.busy": "2020-08-23T22:00:37.133901Z",
     "iopub.status.idle": "2020-08-23T22:00:37.156368Z",
     "shell.execute_reply": "2020-08-23T22:00:37.155476Z"
    },
    "papermill": {
     "duration": 0.055825,
     "end_time": "2020-08-23T22:00:37.156556",
     "exception": false,
     "start_time": "2020-08-23T22:00:37.100731",
     "status": "completed"
    },
    "tags": []
   },
   "outputs": [
    {
     "data": {
      "text/html": [
       "<div>\n",
       "<style scoped>\n",
       "    .dataframe tbody tr th:only-of-type {\n",
       "        vertical-align: middle;\n",
       "    }\n",
       "\n",
       "    .dataframe tbody tr th {\n",
       "        vertical-align: top;\n",
       "    }\n",
       "\n",
       "    .dataframe thead th {\n",
       "        text-align: right;\n",
       "    }\n",
       "</style>\n",
       "<table border=\"1\" class=\"dataframe\">\n",
       "  <thead>\n",
       "    <tr style=\"text-align: right;\">\n",
       "      <th></th>\n",
       "      <th>count</th>\n",
       "      <th>mean</th>\n",
       "      <th>std</th>\n",
       "      <th>min</th>\n",
       "      <th>25%</th>\n",
       "      <th>50%</th>\n",
       "      <th>75%</th>\n",
       "      <th>max</th>\n",
       "    </tr>\n",
       "  </thead>\n",
       "  <tbody>\n",
       "    <tr>\n",
       "      <th>PassengerId</th>\n",
       "      <td>989.0000</td>\n",
       "      <td>494.9929</td>\n",
       "      <td>285.6437</td>\n",
       "      <td>1.0000</td>\n",
       "      <td>248.0000</td>\n",
       "      <td>495.0000</td>\n",
       "      <td>742.0000</td>\n",
       "      <td>989.0000</td>\n",
       "    </tr>\n",
       "    <tr>\n",
       "      <th>Age</th>\n",
       "      <td>989.0000</td>\n",
       "      <td>44.5753</td>\n",
       "      <td>17.2351</td>\n",
       "      <td>0.0000</td>\n",
       "      <td>30.0000</td>\n",
       "      <td>44.0000</td>\n",
       "      <td>59.0000</td>\n",
       "      <td>87.0000</td>\n",
       "    </tr>\n",
       "    <tr>\n",
       "      <th>Survived</th>\n",
       "      <td>989.0000</td>\n",
       "      <td>0.1385</td>\n",
       "      <td>0.3456</td>\n",
       "      <td>0.0000</td>\n",
       "      <td>0.0000</td>\n",
       "      <td>0.0000</td>\n",
       "      <td>0.0000</td>\n",
       "      <td>1.0000</td>\n",
       "    </tr>\n",
       "  </tbody>\n",
       "</table>\n",
       "</div>"
      ],
      "text/plain": [
       "               count     mean      std    min      25%      50%      75%  \\\n",
       "PassengerId 989.0000 494.9929 285.6437 1.0000 248.0000 495.0000 742.0000   \n",
       "Age         989.0000  44.5753  17.2351 0.0000  30.0000  44.0000  59.0000   \n",
       "Survived    989.0000   0.1385   0.3456 0.0000   0.0000   0.0000   0.0000   \n",
       "\n",
       "                 max  \n",
       "PassengerId 989.0000  \n",
       "Age          87.0000  \n",
       "Survived      1.0000  "
      ]
     },
     "execution_count": 4,
     "metadata": {},
     "output_type": "execute_result"
    }
   ],
   "source": [
    "df.describe().T"
   ]
  },
  {
   "cell_type": "markdown",
   "execution_count": null,
   "metadata": {
    "papermill": {
     "duration": 0.028168,
     "end_time": "2020-08-23T22:00:37.207197",
     "exception": false,
     "start_time": "2020-08-23T22:00:37.179029",
     "status": "completed"
    },
    "tags": []
   },
   "source": [
    "## Snippets <a id='index02'></a> <a href=\"#top\" class=\"btn btn-primary btn-sm\" role=\"button\" aria-pressed=\"true\" style=\"color:white; margin-left: 20px;\" data-toggle=\"popover\">Go to TOC</a>"
   ]
  },
  {
   "cell_type": "code",
   "execution_count": 5,
   "metadata": {
    "_kg_hide-input": false,
    "execution": {
     "iopub.execute_input": "2020-08-23T22:00:37.273696Z",
     "iopub.status.busy": "2020-08-23T22:00:37.272304Z",
     "iopub.status.idle": "2020-08-23T22:00:37.276853Z",
     "shell.execute_reply": "2020-08-23T22:00:37.276000Z"
    },
    "papermill": {
     "duration": 0.047756,
     "end_time": "2020-08-23T22:00:37.276996",
     "exception": false,
     "start_time": "2020-08-23T22:00:37.229240",
     "status": "completed"
    },
    "tags": []
   },
   "outputs": [],
   "source": [
    "def eda_categ_feat_desc_plot(series_categorical, title = \"\"):\n",
    "    \"\"\"Generate 2 plots: barplot with quantity and pieplot with percentage. \n",
    "       @series_categorical: categorical series\n",
    "       @title: optional\n",
    "    \"\"\"\n",
    "    series_name = series_categorical.name\n",
    "    val_counts = series_categorical.value_counts()\n",
    "    val_counts.name = 'quantity'\n",
    "    val_percentage = series_categorical.value_counts(normalize=True)\n",
    "    val_percentage.name = \"percentage\"\n",
    "    val_concat = pd.concat([val_counts, val_percentage], axis = 1)\n",
    "    val_concat.reset_index(level=0, inplace=True)\n",
    "    val_concat = val_concat.rename( columns = {'index': series_name} )\n",
    "    \n",
    "    fig, ax = plt.subplots(figsize = (12,4), ncols=2, nrows=1) # figsize = (width, height)\n",
    "    if(title != \"\"):\n",
    "        fig.suptitle(title, fontsize=18)\n",
    "        fig.subplots_adjust(top=0.8)\n",
    "\n",
    "    s = sns.barplot(x=series_name, y='quantity', data=val_concat, ax=ax[0])\n",
    "    for index, row in val_concat.iterrows():\n",
    "        s.text(row.name, row['quantity'], row['quantity'], color='black', ha=\"center\")\n",
    "\n",
    "    s2 = val_concat.plot.pie(y='percentage', autopct=lambda value: '{:.2f}%'.format(value),\n",
    "                             labels=val_concat[series_name].tolist(), legend=None, ax=ax[1],\n",
    "                             title=\"Percentage Plot\")\n",
    "\n",
    "    ax[1].set_ylabel('')\n",
    "    ax[0].set_title('Quantity Plot')\n",
    "\n",
    "    plt.show()"
   ]
  },
  {
   "cell_type": "code",
   "execution_count": 6,
   "metadata": {
    "_kg_hide-input": true,
    "execution": {
     "iopub.execute_input": "2020-08-23T22:00:37.341922Z",
     "iopub.status.busy": "2020-08-23T22:00:37.340678Z",
     "iopub.status.idle": "2020-08-23T22:00:37.344561Z",
     "shell.execute_reply": "2020-08-23T22:00:37.343750Z"
    },
    "papermill": {
     "duration": 0.041243,
     "end_time": "2020-08-23T22:00:37.344702",
     "exception": false,
     "start_time": "2020-08-23T22:00:37.303459",
     "status": "completed"
    },
    "tags": []
   },
   "outputs": [],
   "source": [
    "def eda_horiz_plot(df, x, y, title, figsize = (8,5), palette=\"Blues_d\", formating=\"int\"):\n",
    "    \"\"\"Using Seaborn, plot horizonal Bar with labels\n",
    "    !!! Is recomend sort_values(by, ascending) before passing dataframe\n",
    "    !!! pass few values, not much than 20 is recommended\n",
    "    \"\"\"\n",
    "    f, ax = plt.subplots(figsize=figsize)\n",
    "    sns.barplot(x=x, y=y, data=df, palette=palette)\n",
    "    ax.set_title(title)\n",
    "    for p in ax.patches:\n",
    "        width = p.get_width()\n",
    "        if(formating == \"int\"):\n",
    "            text = int(width)\n",
    "        else:\n",
    "            text = '{.2f}'.format(width)\n",
    "        ax.text(width + 1, p.get_y() + p.get_height() / 2, text, ha = 'left', va = 'center')\n",
    "    plt.show()"
   ]
  },
  {
   "cell_type": "code",
   "execution_count": 7,
   "metadata": {
    "_kg_hide-input": true,
    "execution": {
     "iopub.execute_input": "2020-08-23T22:00:37.400151Z",
     "iopub.status.busy": "2020-08-23T22:00:37.398905Z",
     "iopub.status.idle": "2020-08-23T22:00:37.403596Z",
     "shell.execute_reply": "2020-08-23T22:00:37.402843Z"
    },
    "papermill": {
     "duration": 0.037969,
     "end_time": "2020-08-23T22:00:37.403739",
     "exception": false,
     "start_time": "2020-08-23T22:00:37.365770",
     "status": "completed"
    },
    "tags": []
   },
   "outputs": [],
   "source": [
    "def eda_categ_feat_desc_df(series_categorical):\n",
    "    \"\"\"Generate DataFrame with quantity and percentage of categorical series\n",
    "    @series_categorical = categorical series\n",
    "    \"\"\"\n",
    "    series_name = series_categorical.name\n",
    "    val_counts = series_categorical.value_counts()\n",
    "    val_counts.name = 'quantity'\n",
    "    val_percentage = series_categorical.value_counts(normalize=True)\n",
    "    val_percentage.name = \"percentage\"\n",
    "    val_concat = pd.concat([val_counts, val_percentage], axis = 1)\n",
    "    val_concat.reset_index(level=0, inplace=True)\n",
    "    val_concat = val_concat.rename( columns = {'index': series_name} )\n",
    "    return val_concat"
   ]
  },
  {
   "cell_type": "code",
   "execution_count": 8,
   "metadata": {
    "_kg_hide-input": true,
    "execution": {
     "iopub.execute_input": "2020-08-23T22:00:37.466165Z",
     "iopub.status.busy": "2020-08-23T22:00:37.465313Z",
     "iopub.status.idle": "2020-08-23T22:00:37.473600Z",
     "shell.execute_reply": "2020-08-23T22:00:37.472839Z"
    },
    "papermill": {
     "duration": 0.045931,
     "end_time": "2020-08-23T22:00:37.473753",
     "exception": false,
     "start_time": "2020-08-23T22:00:37.427822",
     "status": "completed"
    },
    "tags": []
   },
   "outputs": [],
   "source": [
    "def eda_numerical_feat(series, title=\"\", with_label=True, number_format=\"\"):\n",
    "    f, (ax1, ax2) = plt.subplots(ncols=2, figsize=(18, 5), sharex=False)\n",
    "    print(series.describe())\n",
    "    if(title != \"\"):\n",
    "        f.suptitle(title, fontsize=18)\n",
    "    sns.distplot(series, ax=ax1)\n",
    "    sns.boxplot(series, ax=ax2)\n",
    "    if(with_label):\n",
    "        describe = series.describe()\n",
    "        labels = { 'min': describe.loc['min'], 'max': describe.loc['max'], \n",
    "              'Q1': describe.loc['25%'], 'Q2': describe.loc['50%'],\n",
    "              'Q3': describe.loc['75%']}\n",
    "        if(number_format != \"\"):\n",
    "            for k, v in labels.items():\n",
    "                ax2.text(v, 0.3, k + \"\\n\" + number_format.format(v), ha='center', va='center', fontweight='bold',\n",
    "                         size=8, color='white', bbox=dict(facecolor='#445A64'))\n",
    "        else:\n",
    "            for k, v in labels.items():\n",
    "                ax2.text(v, 0.3, k + \"\\n\" + str(v), ha='center', va='center', fontweight='bold',\n",
    "                     size=8, color='white', bbox=dict(facecolor='#445A64'))\n",
    "    plt.show()"
   ]
  },
  {
   "cell_type": "code",
   "execution_count": 9,
   "metadata": {
    "_kg_hide-input": true,
    "execution": {
     "iopub.execute_input": "2020-08-23T22:00:37.532133Z",
     "iopub.status.busy": "2020-08-23T22:00:37.531151Z",
     "iopub.status.idle": "2020-08-23T22:00:37.543907Z",
     "shell.execute_reply": "2020-08-23T22:00:37.543071Z"
    },
    "papermill": {
     "duration": 0.047312,
     "end_time": "2020-08-23T22:00:37.544045",
     "exception": false,
     "start_time": "2020-08-23T22:00:37.496733",
     "status": "completed"
    },
    "tags": []
   },
   "outputs": [],
   "source": [
    "def check_balanced_train_test_binary(x_train, y_train, x_test, y_test, original_size, labels):\n",
    "    \"\"\" To binary classification\n",
    "    each paramethes is pandas.core.frame.DataFrame\n",
    "    @total_size = len(X) before split\n",
    "    @labels = labels in ordem [0,1 ...]\n",
    "    \"\"\"\n",
    "    train_unique_label, train_counts_label = np.unique(y_train, return_counts=True)\n",
    "    test_unique_label, test_counts_label = np.unique(y_test, return_counts=True)\n",
    "\n",
    "    prop_train = train_counts_label/ len(y_train)\n",
    "    prop_test = test_counts_label/ len(y_test)\n",
    "\n",
    "    print(\"Original Size:\", '{:,d}'.format(original_size))\n",
    "    print(\"\\nTrain: must be 80% of dataset:\\n\", \n",
    "          \"the train dataset has {:,d} rows\".format(len(x_train)),\n",
    "          'this is ({:.2%}) of original dataset'.format(len(x_train)/original_size),\n",
    "                \"\\n => Classe 0 ({}):\".format(labels[0]), train_counts_label[0], '({:.2%})'.format(prop_train[0]), \n",
    "                \"\\n => Classe 1 ({}):\".format(labels[1]), train_counts_label[1], '({:.2%})'.format(prop_train[1]),\n",
    "          \"\\n\\nTest: must be 20% of dataset:\\n\",\n",
    "          \"the test dataset has {:,d} rows\".format(len(x_test)),\n",
    "          'this is ({:.2%}) of original dataset'.format(len(x_test)/original_size),\n",
    "                  \"\\n => Classe 0 ({}):\".format(labels[0]), test_counts_label[0], '({:.2%})'.format(prop_test[0]),\n",
    "                  \"\\n => Classe 1 ({}):\".format(labels[1]),test_counts_label[1], '({:.2%})'.format(prop_test[1])\n",
    "         )"
   ]
  },
  {
   "cell_type": "code",
   "execution_count": 10,
   "metadata": {
    "_kg_hide-input": true,
    "execution": {
     "iopub.execute_input": "2020-08-23T22:00:37.600181Z",
     "iopub.status.busy": "2020-08-23T22:00:37.599301Z",
     "iopub.status.idle": "2020-08-23T22:00:37.602401Z",
     "shell.execute_reply": "2020-08-23T22:00:37.603250Z"
    },
    "papermill": {
     "duration": 0.036279,
     "end_time": "2020-08-23T22:00:37.603487",
     "exception": false,
     "start_time": "2020-08-23T22:00:37.567208",
     "status": "completed"
    },
    "tags": []
   },
   "outputs": [],
   "source": [
    "def class_report(y_target, y_preds, name=\"\", labels=None):\n",
    "    if(name != ''):\n",
    "        print(name,\"\\n\")\n",
    "    print(confusion_matrix(y_test, y_pred))\n",
    "    print(classification_report(y_test, y_pred, target_names=labels))"
   ]
  },
  {
   "cell_type": "markdown",
   "execution_count": null,
   "metadata": {
    "papermill": {
     "duration": 0.022525,
     "end_time": "2020-08-23T22:00:37.647579",
     "exception": false,
     "start_time": "2020-08-23T22:00:37.625054",
     "status": "completed"
    },
    "tags": []
   },
   "source": [
    "## Exploratory Data Analysis <a id='index03'></a> <a href=\"#top\" class=\"btn btn-primary btn-sm\" role=\"button\" aria-pressed=\"true\" style=\"color:white; margin-left: 20px;\" data-toggle=\"popover\">Go to TOC</a>"
   ]
  },
  {
   "cell_type": "markdown",
   "execution_count": null,
   "metadata": {
    "papermill": {
     "duration": 0.021471,
     "end_time": "2020-08-23T22:00:37.690287",
     "exception": false,
     "start_time": "2020-08-23T22:00:37.668816",
     "status": "completed"
    },
    "tags": []
   },
   "source": [
    "### Missing Data"
   ]
  },
  {
   "cell_type": "code",
   "execution_count": 11,
   "metadata": {
    "execution": {
     "iopub.execute_input": "2020-08-23T22:00:37.744654Z",
     "iopub.status.busy": "2020-08-23T22:00:37.743251Z",
     "iopub.status.idle": "2020-08-23T22:00:37.748215Z",
     "shell.execute_reply": "2020-08-23T22:00:37.749130Z"
    },
    "papermill": {
     "duration": 0.036745,
     "end_time": "2020-08-23T22:00:37.749336",
     "exception": false,
     "start_time": "2020-08-23T22:00:37.712591",
     "status": "completed"
    },
    "tags": []
   },
   "outputs": [
    {
     "name": "stdout",
     "output_type": "stream",
     "text": [
      "No Missing Data:\n",
      "\t 0 invalid Data\n"
     ]
    }
   ],
   "source": [
    "print(\"No Missing Data:\")\n",
    "\n",
    "print(\"\\t\", df.isnull().sum().max(), \"invalid Data\")"
   ]
  },
  {
   "cell_type": "markdown",
   "execution_count": null,
   "metadata": {
    "papermill": {
     "duration": 0.0241,
     "end_time": "2020-08-23T22:00:37.796576",
     "exception": false,
     "start_time": "2020-08-23T22:00:37.772476",
     "status": "completed"
    },
    "tags": []
   },
   "source": [
    "### Check Duplicate\n"
   ]
  },
  {
   "cell_type": "code",
   "execution_count": 12,
   "metadata": {
    "execution": {
     "iopub.execute_input": "2020-08-23T22:00:37.854303Z",
     "iopub.status.busy": "2020-08-23T22:00:37.853098Z",
     "iopub.status.idle": "2020-08-23T22:00:37.863407Z",
     "shell.execute_reply": "2020-08-23T22:00:37.864715Z"
    },
    "papermill": {
     "duration": 0.042804,
     "end_time": "2020-08-23T22:00:37.864979",
     "exception": false,
     "start_time": "2020-08-23T22:00:37.822175",
     "status": "completed"
    },
    "tags": []
   },
   "outputs": [
    {
     "name": "stdout",
     "output_type": "stream",
     "text": [
      "Check duplicated rows\n",
      "\t 0 rows Duplicates\n"
     ]
    }
   ],
   "source": [
    "# No duplicate Rows\n",
    "print(\"Check duplicated rows\")\n",
    "print(\"\\t\", df.duplicated(subset=None, keep='first').sum(), 'rows Duplicates')"
   ]
  },
  {
   "cell_type": "markdown",
   "execution_count": null,
   "metadata": {
    "papermill": {
     "duration": 0.022046,
     "end_time": "2020-08-23T22:00:37.909596",
     "exception": false,
     "start_time": "2020-08-23T22:00:37.887550",
     "status": "completed"
    },
    "tags": []
   },
   "source": [
    "### Each Feature Individually <a id='index06'></a> <a href=\"#top\" class=\"btn btn-primary btn-sm\" role=\"button\" aria-pressed=\"true\" style=\"color:white; margin-left: 20px;\" data-toggle=\"popover\">Go to TOC</a>"
   ]
  },
  {
   "cell_type": "markdown",
   "execution_count": null,
   "metadata": {
    "papermill": {
     "duration": 0.022151,
     "end_time": "2020-08-23T22:00:37.954819",
     "exception": false,
     "start_time": "2020-08-23T22:00:37.932668",
     "status": "completed"
    },
    "tags": []
   },
   "source": [
    "<span style='font-size: 15pt'>PassengerId</span>"
   ]
  },
  {
   "cell_type": "code",
   "execution_count": 13,
   "metadata": {
    "execution": {
     "iopub.execute_input": "2020-08-23T22:00:38.011914Z",
     "iopub.status.busy": "2020-08-23T22:00:38.010868Z",
     "iopub.status.idle": "2020-08-23T22:00:38.016061Z",
     "shell.execute_reply": "2020-08-23T22:00:38.016863Z"
    },
    "papermill": {
     "duration": 0.038431,
     "end_time": "2020-08-23T22:00:38.017068",
     "exception": false,
     "start_time": "2020-08-23T22:00:37.978637",
     "status": "completed"
    },
    "tags": []
   },
   "outputs": [
    {
     "data": {
      "text/plain": [
       "463    2\n",
       "767    2\n",
       "989    1\n",
       "338    1\n",
       "336    1\n",
       "      ..\n",
       "654    1\n",
       "653    1\n",
       "652    1\n",
       "651    1\n",
       "1      1\n",
       "Name: PassengerId, Length: 987, dtype: int64"
      ]
     },
     "execution_count": 13,
     "metadata": {},
     "output_type": "execute_result"
    }
   ],
   "source": [
    "df['PassengerId'].value_counts()"
   ]
  },
  {
   "cell_type": "code",
   "execution_count": 14,
   "metadata": {
    "execution": {
     "iopub.execute_input": "2020-08-23T22:00:38.073224Z",
     "iopub.status.busy": "2020-08-23T22:00:38.072123Z",
     "iopub.status.idle": "2020-08-23T22:00:38.111520Z",
     "shell.execute_reply": "2020-08-23T22:00:38.110715Z"
    },
    "papermill": {
     "duration": 0.069771,
     "end_time": "2020-08-23T22:00:38.111666",
     "exception": false,
     "start_time": "2020-08-23T22:00:38.041895",
     "status": "completed"
    },
    "tags": []
   },
   "outputs": [
    {
     "data": {
      "text/html": [
       "<div>\n",
       "<style scoped>\n",
       "    .dataframe tbody tr th:only-of-type {\n",
       "        vertical-align: middle;\n",
       "    }\n",
       "\n",
       "    .dataframe tbody tr th {\n",
       "        vertical-align: top;\n",
       "    }\n",
       "\n",
       "    .dataframe thead th {\n",
       "        text-align: right;\n",
       "    }\n",
       "</style>\n",
       "<table border=\"1\" class=\"dataframe\">\n",
       "  <thead>\n",
       "    <tr style=\"text-align: right;\">\n",
       "      <th></th>\n",
       "      <th>PassengerId</th>\n",
       "      <th>Country</th>\n",
       "      <th>Firstname</th>\n",
       "      <th>Lastname</th>\n",
       "      <th>Sex</th>\n",
       "      <th>Age</th>\n",
       "      <th>Category</th>\n",
       "      <th>Survived</th>\n",
       "    </tr>\n",
       "  </thead>\n",
       "  <tbody>\n",
       "    <tr>\n",
       "      <th>462</th>\n",
       "      <td>463</td>\n",
       "      <td>Estonia</td>\n",
       "      <td>RAIVO</td>\n",
       "      <td>LASS</td>\n",
       "      <td>M</td>\n",
       "      <td>41</td>\n",
       "      <td>P</td>\n",
       "      <td>0</td>\n",
       "    </tr>\n",
       "    <tr>\n",
       "      <th>468</th>\n",
       "      <td>463</td>\n",
       "      <td>Estonia</td>\n",
       "      <td>AINA</td>\n",
       "      <td>LEE</td>\n",
       "      <td>F</td>\n",
       "      <td>26</td>\n",
       "      <td>P</td>\n",
       "      <td>1</td>\n",
       "    </tr>\n",
       "    <tr>\n",
       "      <th>766</th>\n",
       "      <td>767</td>\n",
       "      <td>Estonia</td>\n",
       "      <td>ALEXANDER</td>\n",
       "      <td>SALU</td>\n",
       "      <td>M</td>\n",
       "      <td>34</td>\n",
       "      <td>C</td>\n",
       "      <td>0</td>\n",
       "    </tr>\n",
       "    <tr>\n",
       "      <th>767</th>\n",
       "      <td>767</td>\n",
       "      <td>Estonia</td>\n",
       "      <td>SIIRI</td>\n",
       "      <td>SAME</td>\n",
       "      <td>F</td>\n",
       "      <td>25</td>\n",
       "      <td>C</td>\n",
       "      <td>1</td>\n",
       "    </tr>\n",
       "  </tbody>\n",
       "</table>\n",
       "</div>"
      ],
      "text/plain": [
       "     PassengerId  Country  Firstname Lastname Sex  Age Category  Survived\n",
       "462          463  Estonia      RAIVO     LASS   M   41        P         0\n",
       "468          463  Estonia       AINA      LEE   F   26        P         1\n",
       "766          767  Estonia  ALEXANDER     SALU   M   34        C         0\n",
       "767          767  Estonia      SIIRI     SAME   F   25        C         1"
      ]
     },
     "execution_count": 14,
     "metadata": {},
     "output_type": "execute_result"
    }
   ],
   "source": [
    "df.query('PassengerId in [463, 767]')"
   ]
  },
  {
   "cell_type": "markdown",
   "execution_count": null,
   "metadata": {
    "papermill": {
     "duration": 0.021611,
     "end_time": "2020-08-23T22:00:38.156366",
     "exception": false,
     "start_time": "2020-08-23T22:00:38.134755",
     "status": "completed"
    },
    "tags": []
   },
   "source": [
    "<span style='font-size: 15pt'>Country</span>"
   ]
  },
  {
   "cell_type": "code",
   "execution_count": 15,
   "metadata": {
    "execution": {
     "iopub.execute_input": "2020-08-23T22:00:38.211010Z",
     "iopub.status.busy": "2020-08-23T22:00:38.209823Z",
     "iopub.status.idle": "2020-08-23T22:00:38.996741Z",
     "shell.execute_reply": "2020-08-23T22:00:38.995345Z"
    },
    "papermill": {
     "duration": 0.818059,
     "end_time": "2020-08-23T22:00:38.996911",
     "exception": false,
     "start_time": "2020-08-23T22:00:38.178852",
     "status": "completed"
    },
    "tags": []
   },
   "outputs": [
    {
     "data": {
      "image/png": "[encoded data removed]",
      "text/plain": [
       "<Figure size 864x288 with 2 Axes>"
      ]
     },
     "metadata": {},
     "output_type": "display_data"
    }
   ],
   "source": [
    "eda_categ_feat_desc_plot(df['Country'], 'Analysis \"Contry\" Distribution')"
   ]
  },
  {
   "cell_type": "code",
   "execution_count": 16,
   "metadata": {
    "execution": {
     "iopub.execute_input": "2020-08-23T22:00:39.070672Z",
     "iopub.status.busy": "2020-08-23T22:00:39.069292Z",
     "iopub.status.idle": "2020-08-23T22:00:39.075610Z",
     "shell.execute_reply": "2020-08-23T22:00:39.074855Z"
    },
    "papermill": {
     "duration": 0.054228,
     "end_time": "2020-08-23T22:00:39.075786",
     "exception": false,
     "start_time": "2020-08-23T22:00:39.021558",
     "status": "completed"
    },
    "tags": []
   },
   "outputs": [
    {
     "data": {
      "text/html": [
       "<div>\n",
       "<style scoped>\n",
       "    .dataframe tbody tr th:only-of-type {\n",
       "        vertical-align: middle;\n",
       "    }\n",
       "\n",
       "    .dataframe tbody tr th {\n",
       "        vertical-align: top;\n",
       "    }\n",
       "\n",
       "    .dataframe thead th {\n",
       "        text-align: right;\n",
       "    }\n",
       "</style>\n",
       "<table border=\"1\" class=\"dataframe\">\n",
       "  <thead>\n",
       "    <tr style=\"text-align: right;\">\n",
       "      <th></th>\n",
       "      <th>Country</th>\n",
       "      <th>quantity</th>\n",
       "      <th>percentage</th>\n",
       "    </tr>\n",
       "  </thead>\n",
       "  <tbody>\n",
       "    <tr>\n",
       "      <th>0</th>\n",
       "      <td>Sweden</td>\n",
       "      <td>550</td>\n",
       "      <td>0.5561</td>\n",
       "    </tr>\n",
       "    <tr>\n",
       "      <th>1</th>\n",
       "      <td>Estonia</td>\n",
       "      <td>344</td>\n",
       "      <td>0.3478</td>\n",
       "    </tr>\n",
       "    <tr>\n",
       "      <th>2</th>\n",
       "      <td>Latvia</td>\n",
       "      <td>28</td>\n",
       "      <td>0.0283</td>\n",
       "    </tr>\n",
       "    <tr>\n",
       "      <th>3</th>\n",
       "      <td>Finland</td>\n",
       "      <td>16</td>\n",
       "      <td>0.0162</td>\n",
       "    </tr>\n",
       "    <tr>\n",
       "      <th>4</th>\n",
       "      <td>Russia</td>\n",
       "      <td>14</td>\n",
       "      <td>0.0142</td>\n",
       "    </tr>\n",
       "    <tr>\n",
       "      <th>5</th>\n",
       "      <td>Norway</td>\n",
       "      <td>9</td>\n",
       "      <td>0.0091</td>\n",
       "    </tr>\n",
       "    <tr>\n",
       "      <th>6</th>\n",
       "      <td>Germany</td>\n",
       "      <td>8</td>\n",
       "      <td>0.0081</td>\n",
       "    </tr>\n",
       "    <tr>\n",
       "      <th>7</th>\n",
       "      <td>Denmark</td>\n",
       "      <td>6</td>\n",
       "      <td>0.0061</td>\n",
       "    </tr>\n",
       "    <tr>\n",
       "      <th>8</th>\n",
       "      <td>Lithuania</td>\n",
       "      <td>4</td>\n",
       "      <td>0.0040</td>\n",
       "    </tr>\n",
       "    <tr>\n",
       "      <th>9</th>\n",
       "      <td>Netherlands</td>\n",
       "      <td>2</td>\n",
       "      <td>0.0020</td>\n",
       "    </tr>\n",
       "    <tr>\n",
       "      <th>10</th>\n",
       "      <td>Great Britain</td>\n",
       "      <td>2</td>\n",
       "      <td>0.0020</td>\n",
       "    </tr>\n",
       "    <tr>\n",
       "      <th>11</th>\n",
       "      <td>Morocco</td>\n",
       "      <td>2</td>\n",
       "      <td>0.0020</td>\n",
       "    </tr>\n",
       "    <tr>\n",
       "      <th>12</th>\n",
       "      <td>France</td>\n",
       "      <td>1</td>\n",
       "      <td>0.0010</td>\n",
       "    </tr>\n",
       "    <tr>\n",
       "      <th>13</th>\n",
       "      <td>Belarus</td>\n",
       "      <td>1</td>\n",
       "      <td>0.0010</td>\n",
       "    </tr>\n",
       "    <tr>\n",
       "      <th>14</th>\n",
       "      <td>Canada</td>\n",
       "      <td>1</td>\n",
       "      <td>0.0010</td>\n",
       "    </tr>\n",
       "    <tr>\n",
       "      <th>15</th>\n",
       "      <td>Nigeria</td>\n",
       "      <td>1</td>\n",
       "      <td>0.0010</td>\n",
       "    </tr>\n",
       "  </tbody>\n",
       "</table>\n",
       "</div>"
      ],
      "text/plain": [
       "          Country  quantity  percentage\n",
       "0          Sweden       550      0.5561\n",
       "1         Estonia       344      0.3478\n",
       "2          Latvia        28      0.0283\n",
       "3         Finland        16      0.0162\n",
       "4          Russia        14      0.0142\n",
       "5          Norway         9      0.0091\n",
       "6         Germany         8      0.0081\n",
       "7         Denmark         6      0.0061\n",
       "8       Lithuania         4      0.0040\n",
       "9     Netherlands         2      0.0020\n",
       "10  Great Britain         2      0.0020\n",
       "11        Morocco         2      0.0020\n",
       "12         France         1      0.0010\n",
       "13        Belarus         1      0.0010\n",
       "14         Canada         1      0.0010\n",
       "15        Nigeria         1      0.0010"
      ]
     },
     "execution_count": 16,
     "metadata": {},
     "output_type": "execute_result"
    }
   ],
   "source": [
    "eda_categ_feat_desc_df(df['Country'])"
   ]
  },
  {
   "cell_type": "markdown",
   "execution_count": null,
   "metadata": {
    "papermill": {
     "duration": 0.023453,
     "end_time": "2020-08-23T22:00:39.124538",
     "exception": false,
     "start_time": "2020-08-23T22:00:39.101085",
     "status": "completed"
    },
    "tags": []
   },
   "source": [
    "<span style='font-size: 15pt'>Firstname</span>"
   ]
  },
  {
   "cell_type": "code",
   "execution_count": 17,
   "metadata": {
    "execution": {
     "iopub.execute_input": "2020-08-23T22:00:39.200160Z",
     "iopub.status.busy": "2020-08-23T22:00:39.199149Z",
     "iopub.status.idle": "2020-08-23T22:00:39.206683Z",
     "shell.execute_reply": "2020-08-23T22:00:39.205716Z"
    },
    "papermill": {
     "duration": 0.057168,
     "end_time": "2020-08-23T22:00:39.206842",
     "exception": false,
     "start_time": "2020-08-23T22:00:39.149674",
     "status": "completed"
    },
    "tags": []
   },
   "outputs": [
    {
     "name": "stdout",
     "output_type": "stream",
     "text": [
      "unique first names:  849\n"
     ]
    },
    {
     "data": {
      "text/html": [
       "<div>\n",
       "<style scoped>\n",
       "    .dataframe tbody tr th:only-of-type {\n",
       "        vertical-align: middle;\n",
       "    }\n",
       "\n",
       "    .dataframe tbody tr th {\n",
       "        vertical-align: top;\n",
       "    }\n",
       "\n",
       "    .dataframe thead th {\n",
       "        text-align: right;\n",
       "    }\n",
       "</style>\n",
       "<table border=\"1\" class=\"dataframe\">\n",
       "  <thead>\n",
       "    <tr style=\"text-align: right;\">\n",
       "      <th></th>\n",
       "      <th>Firstname</th>\n",
       "      <th>quantity</th>\n",
       "      <th>percentage</th>\n",
       "    </tr>\n",
       "  </thead>\n",
       "  <tbody>\n",
       "    <tr>\n",
       "      <th>0</th>\n",
       "      <td>RAIVO</td>\n",
       "      <td>8</td>\n",
       "      <td>0.0081</td>\n",
       "    </tr>\n",
       "    <tr>\n",
       "      <th>1</th>\n",
       "      <td>ANDRES</td>\n",
       "      <td>8</td>\n",
       "      <td>0.0081</td>\n",
       "    </tr>\n",
       "    <tr>\n",
       "      <th>2</th>\n",
       "      <td>TIINA</td>\n",
       "      <td>8</td>\n",
       "      <td>0.0081</td>\n",
       "    </tr>\n",
       "    <tr>\n",
       "      <th>3</th>\n",
       "      <td>PAUL</td>\n",
       "      <td>6</td>\n",
       "      <td>0.0061</td>\n",
       "    </tr>\n",
       "    <tr>\n",
       "      <th>4</th>\n",
       "      <td>KATRIN</td>\n",
       "      <td>6</td>\n",
       "      <td>0.0061</td>\n",
       "    </tr>\n",
       "  </tbody>\n",
       "</table>\n",
       "</div>"
      ],
      "text/plain": [
       "  Firstname  quantity  percentage\n",
       "0     RAIVO         8      0.0081\n",
       "1    ANDRES         8      0.0081\n",
       "2     TIINA         8      0.0081\n",
       "3      PAUL         6      0.0061\n",
       "4    KATRIN         6      0.0061"
      ]
     },
     "execution_count": 17,
     "metadata": {},
     "output_type": "execute_result"
    }
   ],
   "source": [
    "df_names = eda_categ_feat_desc_df(df['Firstname'])\n",
    "print(\"unique first names: \", df_names.shape[0] )\n",
    "df_names.head()"
   ]
  },
  {
   "cell_type": "markdown",
   "execution_count": null,
   "metadata": {
    "papermill": {
     "duration": 0.024979,
     "end_time": "2020-08-23T22:00:39.256651",
     "exception": false,
     "start_time": "2020-08-23T22:00:39.231672",
     "status": "completed"
    },
    "tags": []
   },
   "source": [
    "<span style='font-size: 15pt'>Lastname</span>"
   ]
  },
  {
   "cell_type": "code",
   "execution_count": 18,
   "metadata": {
    "execution": {
     "iopub.execute_input": "2020-08-23T22:00:39.325039Z",
     "iopub.status.busy": "2020-08-23T22:00:39.321958Z",
     "iopub.status.idle": "2020-08-23T22:00:39.352039Z",
     "shell.execute_reply": "2020-08-23T22:00:39.352814Z"
    },
    "papermill": {
     "duration": 0.07119,
     "end_time": "2020-08-23T22:00:39.353036",
     "exception": false,
     "start_time": "2020-08-23T22:00:39.281846",
     "status": "completed"
    },
    "tags": []
   },
   "outputs": [
    {
     "name": "stdout",
     "output_type": "stream",
     "text": [
      "unique last names:  774\n"
     ]
    },
    {
     "data": {
      "text/html": [
       "<div>\n",
       "<style scoped>\n",
       "    .dataframe tbody tr th:only-of-type {\n",
       "        vertical-align: middle;\n",
       "    }\n",
       "\n",
       "    .dataframe tbody tr th {\n",
       "        vertical-align: top;\n",
       "    }\n",
       "\n",
       "    .dataframe thead th {\n",
       "        text-align: right;\n",
       "    }\n",
       "</style>\n",
       "<table border=\"1\" class=\"dataframe\">\n",
       "  <thead>\n",
       "    <tr style=\"text-align: right;\">\n",
       "      <th></th>\n",
       "      <th>Lastname</th>\n",
       "      <th>quantity</th>\n",
       "      <th>percentage</th>\n",
       "    </tr>\n",
       "  </thead>\n",
       "  <tbody>\n",
       "    <tr>\n",
       "      <th>0</th>\n",
       "      <td>ANDERSSON</td>\n",
       "      <td>15</td>\n",
       "      <td>0.0152</td>\n",
       "    </tr>\n",
       "    <tr>\n",
       "      <th>1</th>\n",
       "      <td>NILSSON</td>\n",
       "      <td>12</td>\n",
       "      <td>0.0121</td>\n",
       "    </tr>\n",
       "    <tr>\n",
       "      <th>2</th>\n",
       "      <td>ERIKSSON</td>\n",
       "      <td>11</td>\n",
       "      <td>0.0111</td>\n",
       "    </tr>\n",
       "    <tr>\n",
       "      <th>3</th>\n",
       "      <td>KARLSSON</td>\n",
       "      <td>9</td>\n",
       "      <td>0.0091</td>\n",
       "    </tr>\n",
       "    <tr>\n",
       "      <th>4</th>\n",
       "      <td>JOHANSSON</td>\n",
       "      <td>9</td>\n",
       "      <td>0.0091</td>\n",
       "    </tr>\n",
       "  </tbody>\n",
       "</table>\n",
       "</div>"
      ],
      "text/plain": [
       "    Lastname  quantity  percentage\n",
       "0  ANDERSSON        15      0.0152\n",
       "1    NILSSON        12      0.0121\n",
       "2   ERIKSSON        11      0.0111\n",
       "3   KARLSSON         9      0.0091\n",
       "4  JOHANSSON         9      0.0091"
      ]
     },
     "execution_count": 18,
     "metadata": {},
     "output_type": "execute_result"
    }
   ],
   "source": [
    "df_names = eda_categ_feat_desc_df(df['Lastname'])\n",
    "print(\"unique last names: \", df_names.shape[0] )\n",
    "df_names.head()"
   ]
  },
  {
   "cell_type": "markdown",
   "execution_count": null,
   "metadata": {
    "papermill": {
     "duration": 0.031208,
     "end_time": "2020-08-23T22:00:39.411277",
     "exception": false,
     "start_time": "2020-08-23T22:00:39.380069",
     "status": "completed"
    },
    "tags": []
   },
   "source": [
    "<span style='font-size: 15pt'>Sex</span>"
   ]
  },
  {
   "cell_type": "code",
   "execution_count": 19,
   "metadata": {
    "execution": {
     "iopub.execute_input": "2020-08-23T22:00:39.477599Z",
     "iopub.status.busy": "2020-08-23T22:00:39.476290Z",
     "iopub.status.idle": "2020-08-23T22:00:39.744418Z",
     "shell.execute_reply": "2020-08-23T22:00:39.743601Z"
    },
    "papermill": {
     "duration": 0.302069,
     "end_time": "2020-08-23T22:00:39.744602",
     "exception": false,
     "start_time": "2020-08-23T22:00:39.442533",
     "status": "completed"
    },
    "tags": []
   },
   "outputs": [
    {
     "data": {
      "image/png": "[encoded data removed]",
      "text/plain": [
       "<Figure size 864x288 with 2 Axes>"
      ]
     },
     "metadata": {},
     "output_type": "display_data"
    }
   ],
   "source": [
    "eda_categ_feat_desc_plot(df['Sex'], 'Analysis \"Sex\" Distribution')"
   ]
  },
  {
   "cell_type": "markdown",
   "execution_count": null,
   "metadata": {
    "papermill": {
     "duration": 0.025892,
     "end_time": "2020-08-23T22:00:39.796234",
     "exception": false,
     "start_time": "2020-08-23T22:00:39.770342",
     "status": "completed"
    },
    "tags": []
   },
   "source": [
    "<span style='font-size: 15pt'>Age</span>"
   ]
  },
  {
   "cell_type": "code",
   "execution_count": 20,
   "metadata": {
    "execution": {
     "iopub.execute_input": "2020-08-23T22:00:39.862970Z",
     "iopub.status.busy": "2020-08-23T22:00:39.861982Z",
     "iopub.status.idle": "2020-08-23T22:00:40.787160Z",
     "shell.execute_reply": "2020-08-23T22:00:40.786390Z"
    },
    "papermill": {
     "duration": 0.964667,
     "end_time": "2020-08-23T22:00:40.787472",
     "exception": false,
     "start_time": "2020-08-23T22:00:39.822805",
     "status": "completed"
    },
    "tags": []
   },
   "outputs": [
    {
     "name": "stdout",
     "output_type": "stream",
     "text": [
      "count   989.0000\n",
      "mean     44.5753\n",
      "std      17.2351\n",
      "min       0.0000\n",
      "25%      30.0000\n",
      "50%      44.0000\n",
      "75%      59.0000\n",
      "max      87.0000\n",
      "Name: Age, dtype: float64\n"
     ]
    },
    {
     "data": {
      "image/png": "[encoded data removed]",
      "text/plain": [
       "<Figure size 1296x360 with 2 Axes>"
      ]
     },
     "metadata": {},
     "output_type": "display_data"
    }
   ],
   "source": [
    "eda_numerical_feat(df['Age'], '\"Age\" Distribution', with_label=True)"
   ]
  },
  {
   "cell_type": "code",
   "execution_count": 21,
   "metadata": {
    "execution": {
     "iopub.execute_input": "2020-08-23T22:00:40.854620Z",
     "iopub.status.busy": "2020-08-23T22:00:40.853599Z",
     "iopub.status.idle": "2020-08-23T22:00:40.881459Z",
     "shell.execute_reply": "2020-08-23T22:00:40.880536Z"
    },
    "papermill": {
     "duration": 0.067574,
     "end_time": "2020-08-23T22:00:40.881641",
     "exception": false,
     "start_time": "2020-08-23T22:00:40.814067",
     "status": "completed"
    },
    "tags": []
   },
   "outputs": [
    {
     "data": {
      "text/html": [
       "<div>\n",
       "<style scoped>\n",
       "    .dataframe tbody tr th:only-of-type {\n",
       "        vertical-align: middle;\n",
       "    }\n",
       "\n",
       "    .dataframe tbody tr th {\n",
       "        vertical-align: top;\n",
       "    }\n",
       "\n",
       "    .dataframe thead th {\n",
       "        text-align: right;\n",
       "    }\n",
       "</style>\n",
       "<table border=\"1\" class=\"dataframe\">\n",
       "  <thead>\n",
       "    <tr style=\"text-align: right;\">\n",
       "      <th></th>\n",
       "      <th>PassengerId</th>\n",
       "      <th>Country</th>\n",
       "      <th>Firstname</th>\n",
       "      <th>Lastname</th>\n",
       "      <th>Sex</th>\n",
       "      <th>Age</th>\n",
       "      <th>Category</th>\n",
       "      <th>Survived</th>\n",
       "    </tr>\n",
       "  </thead>\n",
       "  <tbody>\n",
       "    <tr>\n",
       "      <th>969</th>\n",
       "      <td>970</td>\n",
       "      <td>Estonia</td>\n",
       "      <td>KATRE</td>\n",
       "      <td>ZELMIN</td>\n",
       "      <td>F</td>\n",
       "      <td>0</td>\n",
       "      <td>P</td>\n",
       "      <td>0</td>\n",
       "    </tr>\n",
       "    <tr>\n",
       "      <th>970</th>\n",
       "      <td>971</td>\n",
       "      <td>Estonia</td>\n",
       "      <td>KRETE</td>\n",
       "      <td>ZELMIN</td>\n",
       "      <td>F</td>\n",
       "      <td>2</td>\n",
       "      <td>P</td>\n",
       "      <td>0</td>\n",
       "    </tr>\n",
       "    <tr>\n",
       "      <th>335</th>\n",
       "      <td>336</td>\n",
       "      <td>Latvia</td>\n",
       "      <td>MIHAILS</td>\n",
       "      <td>KACS</td>\n",
       "      <td>M</td>\n",
       "      <td>4</td>\n",
       "      <td>P</td>\n",
       "      <td>0</td>\n",
       "    </tr>\n",
       "    <tr>\n",
       "      <th>84</th>\n",
       "      <td>85</td>\n",
       "      <td>Latvia</td>\n",
       "      <td>NIKOLA</td>\n",
       "      <td>BIRSANE</td>\n",
       "      <td>M</td>\n",
       "      <td>5</td>\n",
       "      <td>P</td>\n",
       "      <td>0</td>\n",
       "    </tr>\n",
       "    <tr>\n",
       "      <th>491</th>\n",
       "      <td>492</td>\n",
       "      <td>Sweden</td>\n",
       "      <td>KARIN GUNNELA MATSDOTTE</td>\n",
       "      <td>LINDAHL</td>\n",
       "      <td>F</td>\n",
       "      <td>5</td>\n",
       "      <td>P</td>\n",
       "      <td>0</td>\n",
       "    </tr>\n",
       "    <tr>\n",
       "      <th>225</th>\n",
       "      <td>226</td>\n",
       "      <td>Sweden</td>\n",
       "      <td>ARMILDA ALICE</td>\n",
       "      <td>HAIN</td>\n",
       "      <td>F</td>\n",
       "      <td>80</td>\n",
       "      <td>P</td>\n",
       "      <td>0</td>\n",
       "    </tr>\n",
       "    <tr>\n",
       "      <th>147</th>\n",
       "      <td>148</td>\n",
       "      <td>Sweden</td>\n",
       "      <td>BRITTA MARIA TEQDORA</td>\n",
       "      <td>ERIKSSON</td>\n",
       "      <td>F</td>\n",
       "      <td>81</td>\n",
       "      <td>P</td>\n",
       "      <td>0</td>\n",
       "    </tr>\n",
       "    <tr>\n",
       "      <th>308</th>\n",
       "      <td>309</td>\n",
       "      <td>Sweden</td>\n",
       "      <td>MAJA KRISTINA</td>\n",
       "      <td>JOHANSSON</td>\n",
       "      <td>F</td>\n",
       "      <td>82</td>\n",
       "      <td>P</td>\n",
       "      <td>0</td>\n",
       "    </tr>\n",
       "    <tr>\n",
       "      <th>818</th>\n",
       "      <td>819</td>\n",
       "      <td>Sweden</td>\n",
       "      <td>DAGNY JOHNY GUSTAVA</td>\n",
       "      <td>STENGARD</td>\n",
       "      <td>F</td>\n",
       "      <td>82</td>\n",
       "      <td>P</td>\n",
       "      <td>0</td>\n",
       "    </tr>\n",
       "    <tr>\n",
       "      <th>987</th>\n",
       "      <td>988</td>\n",
       "      <td>Sweden</td>\n",
       "      <td>LY</td>\n",
       "      <td>GUNAPUU</td>\n",
       "      <td>F</td>\n",
       "      <td>87</td>\n",
       "      <td>P</td>\n",
       "      <td>0</td>\n",
       "    </tr>\n",
       "  </tbody>\n",
       "</table>\n",
       "</div>"
      ],
      "text/plain": [
       "     PassengerId  Country                Firstname   Lastname Sex  Age  \\\n",
       "969          970  Estonia                    KATRE     ZELMIN   F    0   \n",
       "970          971  Estonia                    KRETE     ZELMIN   F    2   \n",
       "335          336   Latvia                  MIHAILS       KACS   M    4   \n",
       "84            85   Latvia                   NIKOLA    BIRSANE   M    5   \n",
       "491          492   Sweden  KARIN GUNNELA MATSDOTTE    LINDAHL   F    5   \n",
       "225          226   Sweden            ARMILDA ALICE       HAIN   F   80   \n",
       "147          148   Sweden     BRITTA MARIA TEQDORA   ERIKSSON   F   81   \n",
       "308          309   Sweden            MAJA KRISTINA  JOHANSSON   F   82   \n",
       "818          819   Sweden      DAGNY JOHNY GUSTAVA   STENGARD   F   82   \n",
       "987          988   Sweden                       LY    GUNAPUU   F   87   \n",
       "\n",
       "    Category  Survived  \n",
       "969        P         0  \n",
       "970        P         0  \n",
       "335        P         0  \n",
       "84         P         0  \n",
       "491        P         0  \n",
       "225        P         0  \n",
       "147        P         0  \n",
       "308        P         0  \n",
       "818        P         0  \n",
       "987        P         0  "
      ]
     },
     "execution_count": 21,
     "metadata": {},
     "output_type": "execute_result"
    }
   ],
   "source": [
    "# Min Ages and Max Ages\n",
    "top_int = 5\n",
    "\n",
    "pd.concat([df.sort_values(by=\"Age\").head(top_int), df.sort_values(by=\"Age\").tail(top_int)])"
   ]
  },
  {
   "cell_type": "markdown",
   "execution_count": null,
   "metadata": {
    "papermill": {
     "duration": 0.028077,
     "end_time": "2020-08-23T22:00:40.937293",
     "exception": false,
     "start_time": "2020-08-23T22:00:40.909216",
     "status": "completed"
    },
    "tags": []
   },
   "source": [
    "<span style='font-size: 15pt'>Category</span>"
   ]
  },
  {
   "cell_type": "code",
   "execution_count": 22,
   "metadata": {
    "execution": {
     "iopub.execute_input": "2020-08-23T22:00:41.076547Z",
     "iopub.status.busy": "2020-08-23T22:00:41.075469Z",
     "iopub.status.idle": "2020-08-23T22:00:41.323329Z",
     "shell.execute_reply": "2020-08-23T22:00:41.322608Z"
    },
    "papermill": {
     "duration": 0.298875,
     "end_time": "2020-08-23T22:00:41.323492",
     "exception": false,
     "start_time": "2020-08-23T22:00:41.024617",
     "status": "completed"
    },
    "tags": []
   },
   "outputs": [
    {
     "data": {
      "image/png": "[encoded data removed]",
      "text/plain": [
       "<Figure size 864x288 with 2 Axes>"
      ]
     },
     "metadata": {},
     "output_type": "display_data"
    }
   ],
   "source": [
    "eda_categ_feat_desc_plot(df['Category'], 'Analysis \"Category\" Distribution')"
   ]
  },
  {
   "cell_type": "markdown",
   "execution_count": null,
   "metadata": {
    "papermill": {
     "duration": 0.026664,
     "end_time": "2020-08-23T22:00:41.376604",
     "exception": false,
     "start_time": "2020-08-23T22:00:41.349940",
     "status": "completed"
    },
    "tags": []
   },
   "source": [
    "<span style='font-size: 15pt'>Survived</span>"
   ]
  },
  {
   "cell_type": "code",
   "execution_count": 23,
   "metadata": {
    "execution": {
     "iopub.execute_input": "2020-08-23T22:00:41.455011Z",
     "iopub.status.busy": "2020-08-23T22:00:41.451564Z",
     "iopub.status.idle": "2020-08-23T22:00:41.705540Z",
     "shell.execute_reply": "2020-08-23T22:00:41.704680Z"
    },
    "papermill": {
     "duration": 0.3026,
     "end_time": "2020-08-23T22:00:41.705681",
     "exception": false,
     "start_time": "2020-08-23T22:00:41.403081",
     "status": "completed"
    },
    "tags": []
   },
   "outputs": [
    {
     "data": {
      "image/png": "[encoded data removed]",
      "text/plain": [
       "<Figure size 864x288 with 2 Axes>"
      ]
     },
     "metadata": {},
     "output_type": "display_data"
    }
   ],
   "source": [
    "eda_categ_feat_desc_plot(df['Survived'], 'Analysis \"Survived\" Distribution')"
   ]
  },
  {
   "cell_type": "markdown",
   "execution_count": null,
   "metadata": {
    "papermill": {
     "duration": 0.027643,
     "end_time": "2020-08-23T22:00:41.762228",
     "exception": false,
     "start_time": "2020-08-23T22:00:41.734585",
     "status": "completed"
    },
    "tags": []
   },
   "source": [
    "<span style='font-size: 15pt; color: darkblue;'>Conclusion</span>\n",
    "\n",
    "+ `PassengerId`:\n",
    "   - Number and unique values for each passenger. Except 2 Ids, \\[463, 767 \\] these divided between a man and a woman of class mems, probably known. The curious thing is that, even though Ids are different and of different categories \\[P (Passenger - Passenger), C (Crew - Technical Team)\\] in both cases the woman survived and the man did not.\n",
    "+ `Country`:\n",
    "   - 90% of Estonia (35%) and Sweden (55%) and the rest of other countries\n",
    "+ `Firstname`:\n",
    "   - Unique values, there is nothing to be analyzed\n",
    "+ `Lastname`:\n",
    "   - Unique values, there is nothing to be analyzed\n",
    "+ `Sex`:\n",
    "   - On the ship, there was the same disposition between men and women\n",
    "+ `Age`:\n",
    "   - Most adults, with children and old people. Ages range from 0 years to 80\n",
    "+ `Category`:\n",
    "   - About 80% class P and 20% class C\n",
    "+ `Survived`: Class\n",
    "   - 806% died and 14% survived\n",
    "\n",
    "\n",
    "*PassengerId*, *Firstname*, *Lastname* will no longer be analyzed for not providing relevant information to the problem\n",
    "\n",
    "<!--\n",
    "🇧🇷\n",
    "\n",
    "+ `PassengerId`:\n",
    "  -  Númerico e valores únicos para cada passageiros. Exceto 2 Ids, \\[463, 767\\] esses divididos entre um homem e uma mulher de mems classe, provavelmente conhecidos. O curioso é que, mesmo sendo Ids diferente e de categorias diferentes \\[P (Passenger - Passageiro), C (Crew - Equipe Técnica)\\] em ambos os casos a mulher sobreviveu e o homem não.\n",
    "+ `Country`: \n",
    "  -  90% da Estonia (35%) e Suécia (55%) e o restante de outros paises\n",
    "+ `Firstname`:\n",
    "  - Valores únicos, não há o que ser analizado\n",
    "+ `Lastname`:\n",
    "  - Valores únicos, não há o que ser analizado\n",
    "+ `Sex`:\n",
    "  - No navio, havia mesma disposição entre homens e mulheres\n",
    "+ `Age`:\n",
    "  - Maioria Adultos, com crianças e velhos. Idades variam entre 0 anos a 80\n",
    "+ `Category`:\n",
    "  - Cerca de 80% classe P e 20% classe C\n",
    "+ `Survived`: Classe\n",
    "  - 806% morreram e 14% sobreviveram\n",
    "\n",
    "\n",
    "*PassengerId*, *Firstname*, *Lastname* não serão mais analizados por não oferencerem informação relevante ao problema\n",
    "-->"
   ]
  },
  {
   "cell_type": "markdown",
   "execution_count": null,
   "metadata": {
    "papermill": {
     "duration": 0.026929,
     "end_time": "2020-08-23T22:00:41.817488",
     "exception": false,
     "start_time": "2020-08-23T22:00:41.790559",
     "status": "completed"
    },
    "tags": []
   },
   "source": [
    "### With Survived <a id='index02'></a> <a href=\"#top\" class=\"btn btn-primary btn-sm\" role=\"button\" aria-pressed=\"true\" style=\"color:white; margin-left: 20px;\" data-toggle=\"popover\">Go to TOC</a>\n"
   ]
  },
  {
   "cell_type": "code",
   "execution_count": 24,
   "metadata": {
    "execution": {
     "iopub.execute_input": "2020-08-23T22:00:41.881756Z",
     "iopub.status.busy": "2020-08-23T22:00:41.880644Z",
     "iopub.status.idle": "2020-08-23T22:00:41.885793Z",
     "shell.execute_reply": "2020-08-23T22:00:41.884784Z"
    },
    "papermill": {
     "duration": 0.041237,
     "end_time": "2020-08-23T22:00:41.886156",
     "exception": false,
     "start_time": "2020-08-23T22:00:41.844919",
     "status": "completed"
    },
    "tags": []
   },
   "outputs": [
    {
     "name": "stdout",
     "output_type": "stream",
     "text": [
      "['PassengerId', 'Country', 'Firstname', 'Lastname', 'Sex', 'Age', 'Category', 'Survived']\n"
     ]
    }
   ],
   "source": [
    "print(list(df.columns))"
   ]
  },
  {
   "cell_type": "markdown",
   "execution_count": null,
   "metadata": {
    "papermill": {
     "duration": 0.026267,
     "end_time": "2020-08-23T22:00:41.940848",
     "exception": false,
     "start_time": "2020-08-23T22:00:41.914581",
     "status": "completed"
    },
    "tags": []
   },
   "source": [
    "<span style='font-size: 15pt'>Relationship Sex, Age and Survived</span>"
   ]
  },
  {
   "cell_type": "code",
   "execution_count": 25,
   "metadata": {
    "execution": {
     "iopub.execute_input": "2020-08-23T22:00:42.019701Z",
     "iopub.status.busy": "2020-08-23T22:00:42.016148Z",
     "iopub.status.idle": "2020-08-23T22:00:43.829739Z",
     "shell.execute_reply": "2020-08-23T22:00:43.830529Z"
    },
    "papermill": {
     "duration": 1.861948,
     "end_time": "2020-08-23T22:00:43.830734",
     "exception": false,
     "start_time": "2020-08-23T22:00:41.968786",
     "status": "completed"
    },
    "tags": []
   },
   "outputs": [
    {
     "data": {
      "text/plain": [
       "<seaborn.axisgrid.PairGrid at 0x7f36e8b8b190>"
      ]
     },
     "execution_count": 25,
     "metadata": {},
     "output_type": "execute_result"
    },
    {
     "data": {
      "image/png": "[encoded data removed]",
      "text/plain": [
       "<Figure size 413.425x360 with 5 Axes>"
      ]
     },
     "metadata": {},
     "output_type": "display_data"
    }
   ],
   "source": [
    "sns.pairplot(df, hue=\"Survived\", corner=True)"
   ]
  },
  {
   "cell_type": "code",
   "execution_count": 26,
   "metadata": {
    "_kg_hide-input": true,
    "execution": {
     "iopub.execute_input": "2020-08-23T22:00:43.909200Z",
     "iopub.status.busy": "2020-08-23T22:00:43.908326Z",
     "iopub.status.idle": "2020-08-23T22:00:44.305818Z",
     "shell.execute_reply": "2020-08-23T22:00:44.304982Z"
    },
    "papermill": {
     "duration": 0.44491,
     "end_time": "2020-08-23T22:00:44.305980",
     "exception": false,
     "start_time": "2020-08-23T22:00:43.861070",
     "status": "completed"
    },
    "tags": []
   },
   "outputs": [
    {
     "data": {
      "image/png": "[encoded data removed]",
      "text/plain": [
       "<Figure size 1008x360 with 2 Axes>"
      ]
     },
     "metadata": {},
     "output_type": "display_data"
    }
   ],
   "source": [
    "f, (ax1, ax2) = plt.subplots(ncols=2, figsize=(14, 5), sharex=False)\n",
    "f.suptitle('Age x Survived', fontsize=18)\n",
    "\n",
    "sns.boxplot(y=\"Age\", x=\"Survived\", data=df, ax=ax1)\n",
    "sns.violinplot(y=\"Age\", x=\"Survived\", data=df, ax=ax2)\n",
    "ax1.set_title(\"BoxPlot\")\n",
    "ax2.set_title(\"ViolinPlot\")\n",
    "\n",
    "plt.show()"
   ]
  },
  {
   "cell_type": "code",
   "execution_count": 27,
   "metadata": {
    "_kg_hide-input": true,
    "execution": {
     "iopub.execute_input": "2020-08-23T22:00:44.376551Z",
     "iopub.status.busy": "2020-08-23T22:00:44.375450Z",
     "iopub.status.idle": "2020-08-23T22:00:44.917717Z",
     "shell.execute_reply": "2020-08-23T22:00:44.918361Z"
    },
    "papermill": {
     "duration": 0.582244,
     "end_time": "2020-08-23T22:00:44.918568",
     "exception": false,
     "start_time": "2020-08-23T22:00:44.336324",
     "status": "completed"
    },
    "tags": []
   },
   "outputs": [
    {
     "data": {
      "image/png": "[encoded data removed]",
      "text/plain": [
       "<Figure size 1008x360 with 2 Axes>"
      ]
     },
     "metadata": {},
     "output_type": "display_data"
    }
   ],
   "source": [
    "f, (ax1, ax2) = plt.subplots(ncols=2, figsize=(14, 5), sharex=False)\n",
    "f.suptitle('Age x Survived by Sex', fontsize=18)\n",
    "\n",
    "sns.boxplot(y=\"Age\", x=\"Survived\", hue=\"Sex\", data=df, ax=ax1)\n",
    "sns.violinplot(y=\"Age\", x=\"Survived\", hue=\"Sex\", data=df, ax=ax2)\n",
    "ax1.set_title(\"BoxPlot\")\n",
    "ax2.set_title(\"ViolinPlot\")\n",
    "\n",
    "plt.show()"
   ]
  },
  {
   "cell_type": "code",
   "execution_count": 28,
   "metadata": {
    "_kg_hide-input": true,
    "execution": {
     "iopub.execute_input": "2020-08-23T22:00:44.990506Z",
     "iopub.status.busy": "2020-08-23T22:00:44.989689Z",
     "iopub.status.idle": "2020-08-23T22:00:45.209593Z",
     "shell.execute_reply": "2020-08-23T22:00:45.210173Z"
    },
    "papermill": {
     "duration": 0.261344,
     "end_time": "2020-08-23T22:00:45.210360",
     "exception": false,
     "start_time": "2020-08-23T22:00:44.949016",
     "status": "completed"
    },
    "tags": []
   },
   "outputs": [
    {
     "data": {
      "image/png": "[encoded data removed]",
      "text/plain": [
       "<Figure size 720x360 with 1 Axes>"
      ]
     },
     "metadata": {},
     "output_type": "display_data"
    }
   ],
   "source": [
    "f, ax1 = plt.subplots(figsize=(10, 5))\n",
    "\n",
    "sns.countplot(x=\"Sex\", hue=\"Survived\", data=df, ax=ax1)\n",
    "ax1.set_title(\"Sex x Survived\", size=15)\n",
    "\n",
    "plt.show()"
   ]
  },
  {
   "cell_type": "markdown",
   "execution_count": null,
   "metadata": {
    "papermill": {
     "duration": 0.032913,
     "end_time": "2020-08-23T22:00:45.274002",
     "exception": false,
     "start_time": "2020-08-23T22:00:45.241089",
     "status": "completed"
    },
    "tags": []
   },
   "source": [
    "<span style='font-size: 15pt; color: darkblue;'>Conclusion</span>\n",
    "\n",
    "Analyzing the BoxPlots and ViolinPlots, we can see that younger people tended to survive, and this occurs mainly for women\n",
    "\n",
    "<!--\n",
    "Analisandos os BoxPlots e ViolinPlots podemos perceber que pessoas mais jovens tenderam a sobreviver, e isso ocorre principalmente para as mulheres\n",
    "-->\n",
    "\n",
    "<span style='font-size: 15pt'>features x Survived</span>"
   ]
  },
  {
   "cell_type": "code",
   "execution_count": 29,
   "metadata": {
    "execution": {
     "iopub.execute_input": "2020-08-23T22:00:45.347264Z",
     "iopub.status.busy": "2020-08-23T22:00:45.346275Z",
     "iopub.status.idle": "2020-08-23T22:00:45.367715Z",
     "shell.execute_reply": "2020-08-23T22:00:45.366609Z"
    },
    "papermill": {
     "duration": 0.062624,
     "end_time": "2020-08-23T22:00:45.367877",
     "exception": false,
     "start_time": "2020-08-23T22:00:45.305253",
     "status": "completed"
    },
    "tags": []
   },
   "outputs": [
    {
     "data": {
      "text/html": [
       "<div>\n",
       "<style scoped>\n",
       "    .dataframe tbody tr th:only-of-type {\n",
       "        vertical-align: middle;\n",
       "    }\n",
       "\n",
       "    .dataframe tbody tr th {\n",
       "        vertical-align: top;\n",
       "    }\n",
       "\n",
       "    .dataframe thead th {\n",
       "        text-align: right;\n",
       "    }\n",
       "</style>\n",
       "<table border=\"1\" class=\"dataframe\">\n",
       "  <thead>\n",
       "    <tr style=\"text-align: right;\">\n",
       "      <th></th>\n",
       "      <th>Survived</th>\n",
       "      <th>Sex</th>\n",
       "      <th>PassengerId</th>\n",
       "      <th>Country</th>\n",
       "      <th>Quantity</th>\n",
       "      <th>Lastname</th>\n",
       "      <th>Age</th>\n",
       "      <th>Category</th>\n",
       "    </tr>\n",
       "  </thead>\n",
       "  <tbody>\n",
       "    <tr>\n",
       "      <th>0</th>\n",
       "      <td>0</td>\n",
       "      <td>F</td>\n",
       "      <td>459</td>\n",
       "      <td>459</td>\n",
       "      <td>459</td>\n",
       "      <td>459</td>\n",
       "      <td>459</td>\n",
       "      <td>459</td>\n",
       "    </tr>\n",
       "    <tr>\n",
       "      <th>1</th>\n",
       "      <td>0</td>\n",
       "      <td>M</td>\n",
       "      <td>393</td>\n",
       "      <td>393</td>\n",
       "      <td>393</td>\n",
       "      <td>393</td>\n",
       "      <td>393</td>\n",
       "      <td>393</td>\n",
       "    </tr>\n",
       "    <tr>\n",
       "      <th>2</th>\n",
       "      <td>1</td>\n",
       "      <td>F</td>\n",
       "      <td>27</td>\n",
       "      <td>27</td>\n",
       "      <td>27</td>\n",
       "      <td>27</td>\n",
       "      <td>27</td>\n",
       "      <td>27</td>\n",
       "    </tr>\n",
       "    <tr>\n",
       "      <th>3</th>\n",
       "      <td>1</td>\n",
       "      <td>M</td>\n",
       "      <td>110</td>\n",
       "      <td>110</td>\n",
       "      <td>110</td>\n",
       "      <td>110</td>\n",
       "      <td>110</td>\n",
       "      <td>110</td>\n",
       "    </tr>\n",
       "  </tbody>\n",
       "</table>\n",
       "</div>"
      ],
      "text/plain": [
       "   Survived Sex  PassengerId  Country  Quantity  Lastname  Age  Category\n",
       "0         0   F          459      459       459       459  459       459\n",
       "1         0   M          393      393       393       393  393       393\n",
       "2         1   F           27       27        27        27   27        27\n",
       "3         1   M          110      110       110       110  110       110"
      ]
     },
     "execution_count": 29,
     "metadata": {},
     "output_type": "execute_result"
    }
   ],
   "source": [
    "df1 = df.groupby([\"Survived\",\"Sex\"]).count().reset_index().rename({\"Firstname\": \"Quantity\"}, axis=1)\n",
    "df1"
   ]
  },
  {
   "cell_type": "code",
   "execution_count": 30,
   "metadata": {
    "_kg_hide-input": true,
    "execution": {
     "iopub.execute_input": "2020-08-23T22:00:45.446414Z",
     "iopub.status.busy": "2020-08-23T22:00:45.445302Z",
     "iopub.status.idle": "2020-08-23T22:00:45.671061Z",
     "shell.execute_reply": "2020-08-23T22:00:45.671723Z"
    },
    "papermill": {
     "duration": 0.271604,
     "end_time": "2020-08-23T22:00:45.671910",
     "exception": false,
     "start_time": "2020-08-23T22:00:45.400306",
     "status": "completed"
    },
    "tags": []
   },
   "outputs": [
    {
     "data": {
      "image/png": "[encoded data removed]",
      "text/plain": [
       "<Figure size 720x360 with 2 Axes>"
      ]
     },
     "metadata": {},
     "output_type": "display_data"
    }
   ],
   "source": [
    "f, (ax1, ax2) = plt.subplots(ncols=2, figsize=(18, 5), sharex=False)\n",
    "f.suptitle('Percentage of Survivors by Sex', fontsize=18)\n",
    "\n",
    "alist = df1['Quantity'].tolist()\n",
    "\n",
    "df1.query('Sex == \"M\"').plot.pie(y='Quantity', figsize=(10, 5), autopct='%1.2f%%', \n",
    "                                 labels = ['Not Survived = ' + str(alist[1]), 'Survived = ' + str(alist[3]) ],\n",
    "                                 title=\"% of male survivors \" + \"(Total = \" + str(alist[1] + alist[3]) + \")\",\n",
    "                                 ax=ax1, labeldistance=None)\n",
    "\n",
    "df1.query('Sex == \"F\"').plot.pie(y='Quantity', figsize=(10, 5), autopct='%1.2f%%', \n",
    "                                 labels = ['Not Survived = ' + str(alist[0]), 'Survived =' + str(alist[2]) ],\n",
    "                                title=\"% of female survivors \" + \"(Total = \" + str(alist[0] + alist[2]) + \")\", \n",
    "                                 ax=ax2, labeldistance=None)\n",
    "\n",
    "plt.show()"
   ]
  },
  {
   "cell_type": "code",
   "execution_count": 31,
   "metadata": {
    "_kg_hide-input": true,
    "execution": {
     "iopub.execute_input": "2020-08-23T22:00:45.756590Z",
     "iopub.status.busy": "2020-08-23T22:00:45.749414Z",
     "iopub.status.idle": "2020-08-23T22:00:45.971884Z",
     "shell.execute_reply": "2020-08-23T22:00:45.971222Z"
    },
    "papermill": {
     "duration": 0.265867,
     "end_time": "2020-08-23T22:00:45.972030",
     "exception": false,
     "start_time": "2020-08-23T22:00:45.706163",
     "status": "completed"
    },
    "tags": []
   },
   "outputs": [
    {
     "data": {
      "image/png": "[encoded data removed]",
      "text/plain": [
       "<Figure size 720x360 with 2 Axes>"
      ]
     },
     "metadata": {},
     "output_type": "display_data"
    }
   ],
   "source": [
    "f, (ax1, ax2) = plt.subplots(ncols=2, figsize=(18, 5), sharex=False)\n",
    "f.suptitle('Percentage of Sex that Survivors', fontsize=18)\n",
    "\n",
    "alist = df1['Quantity'].tolist()\n",
    "\n",
    "df1.query('Survived == 0').plot.pie(y='Quantity', figsize=(10, 5), autopct='%1.2f%%',\n",
    "                                    labels = ['Female = ' + str(alist[0]), 'Male = ' + str(alist[1]) ],\n",
    "                                    title=\"% to sex of deaths \" + \"(Total = \" + str(alist[0] + alist[1]) + \")\",\n",
    "                                    ax=ax1, labeldistance=None)\n",
    "\n",
    "df1.query('Survived == 1').plot.pie(y='Quantity', figsize=(10, 5), autopct='%1.2f%%',\n",
    "                                    labels = ['Female = ' + str(alist[2]), 'Male = ' + str(alist[3]) ],\n",
    "                                    title=\"% to sex of survivors \"  + \"(Total = \" + str(alist[2] + alist[3]) + \")\",\n",
    "                                    ax=ax2, labeldistance=None)\n",
    "\n",
    "plt.show()"
   ]
  },
  {
   "cell_type": "code",
   "execution_count": 32,
   "metadata": {
    "execution": {
     "iopub.execute_input": "2020-08-23T22:00:46.064905Z",
     "iopub.status.busy": "2020-08-23T22:00:46.057124Z",
     "iopub.status.idle": "2020-08-23T22:00:46.076295Z",
     "shell.execute_reply": "2020-08-23T22:00:46.075477Z"
    },
    "papermill": {
     "duration": 0.071267,
     "end_time": "2020-08-23T22:00:46.076458",
     "exception": false,
     "start_time": "2020-08-23T22:00:46.005191",
     "status": "completed"
    },
    "tags": []
   },
   "outputs": [
    {
     "data": {
      "text/html": [
       "<div>\n",
       "<style scoped>\n",
       "    .dataframe tbody tr th:only-of-type {\n",
       "        vertical-align: middle;\n",
       "    }\n",
       "\n",
       "    .dataframe tbody tr th {\n",
       "        vertical-align: top;\n",
       "    }\n",
       "\n",
       "    .dataframe thead th {\n",
       "        text-align: right;\n",
       "    }\n",
       "</style>\n",
       "<table border=\"1\" class=\"dataframe\">\n",
       "  <thead>\n",
       "    <tr style=\"text-align: right;\">\n",
       "      <th></th>\n",
       "      <th>Survived</th>\n",
       "      <th>Category</th>\n",
       "      <th>PassengerId</th>\n",
       "      <th>Country</th>\n",
       "      <th>Quantity</th>\n",
       "      <th>Lastname</th>\n",
       "      <th>Sex</th>\n",
       "      <th>Age</th>\n",
       "    </tr>\n",
       "  </thead>\n",
       "  <tbody>\n",
       "    <tr>\n",
       "      <th>0</th>\n",
       "      <td>0</td>\n",
       "      <td>C</td>\n",
       "      <td>154</td>\n",
       "      <td>154</td>\n",
       "      <td>154</td>\n",
       "      <td>154</td>\n",
       "      <td>154</td>\n",
       "      <td>154</td>\n",
       "    </tr>\n",
       "    <tr>\n",
       "      <th>1</th>\n",
       "      <td>0</td>\n",
       "      <td>P</td>\n",
       "      <td>698</td>\n",
       "      <td>698</td>\n",
       "      <td>698</td>\n",
       "      <td>698</td>\n",
       "      <td>698</td>\n",
       "      <td>698</td>\n",
       "    </tr>\n",
       "    <tr>\n",
       "      <th>2</th>\n",
       "      <td>1</td>\n",
       "      <td>C</td>\n",
       "      <td>39</td>\n",
       "      <td>39</td>\n",
       "      <td>39</td>\n",
       "      <td>39</td>\n",
       "      <td>39</td>\n",
       "      <td>39</td>\n",
       "    </tr>\n",
       "    <tr>\n",
       "      <th>3</th>\n",
       "      <td>1</td>\n",
       "      <td>P</td>\n",
       "      <td>98</td>\n",
       "      <td>98</td>\n",
       "      <td>98</td>\n",
       "      <td>98</td>\n",
       "      <td>98</td>\n",
       "      <td>98</td>\n",
       "    </tr>\n",
       "  </tbody>\n",
       "</table>\n",
       "</div>"
      ],
      "text/plain": [
       "   Survived Category  PassengerId  Country  Quantity  Lastname  Sex  Age\n",
       "0         0        C          154      154       154       154  154  154\n",
       "1         0        P          698      698       698       698  698  698\n",
       "2         1        C           39       39        39        39   39   39\n",
       "3         1        P           98       98        98        98   98   98"
      ]
     },
     "execution_count": 32,
     "metadata": {},
     "output_type": "execute_result"
    }
   ],
   "source": [
    "df2 = df.groupby([\"Survived\",\"Category\"]).count().reset_index().rename({\"Firstname\": \"Quantity\"}, axis=1)\n",
    "df2"
   ]
  },
  {
   "cell_type": "code",
   "execution_count": 33,
   "metadata": {
    "_kg_hide-input": true,
    "execution": {
     "iopub.execute_input": "2020-08-23T22:00:46.291562Z",
     "iopub.status.busy": "2020-08-23T22:00:46.287335Z",
     "iopub.status.idle": "2020-08-23T22:00:46.485087Z",
     "shell.execute_reply": "2020-08-23T22:00:46.484412Z"
    },
    "papermill": {
     "duration": 0.375675,
     "end_time": "2020-08-23T22:00:46.485216",
     "exception": false,
     "start_time": "2020-08-23T22:00:46.109541",
     "status": "completed"
    },
    "tags": []
   },
   "outputs": [
    {
     "data": {
      "image/png": "[encoded data removed]",
      "text/plain": [
       "<Figure size 720x360 with 2 Axes>"
      ]
     },
     "metadata": {},
     "output_type": "display_data"
    }
   ],
   "source": [
    "f, (ax1, ax2) = plt.subplots(ncols=2, figsize=(18, 5), sharex=False)\n",
    "f.suptitle('Percentage of Categories that Survived', fontsize=18)\n",
    "\n",
    "alist = df2['Quantity'].tolist()\n",
    "\n",
    "df2.query('Category == \"P\"').plot.pie(y='Quantity', figsize=(10, 5), autopct='%1.2f%%',\n",
    "                                      labels = ['Not Survived = ' + str(alist[1]), 'Survived = ' + str(alist[3]) ],\n",
    "                                      title=\"% of class P that survived \" + \"(Total = \" + str(alist[1] + alist[3]) + \")\",\n",
    "                                      ax=ax1, labeldistance=None)\n",
    "\n",
    "df2.query('Category == \"C\"').plot.pie(y='Quantity', figsize=(10, 5), autopct='%1.2f%%',\n",
    "                                      labels = ['Not Survived = ' + str(alist[0]), 'Survived = ' + str(alist[2]) ],\n",
    "                                      title=\"% of class C that survived \" + \"(Total = \" + str(alist[0] + alist[2]) + \")\",\n",
    "                                      ax=ax2, labeldistance=None)\n",
    "\n",
    "plt.show()"
   ]
  },
  {
   "cell_type": "markdown",
   "execution_count": null,
   "metadata": {
    "papermill": {
     "duration": 0.033572,
     "end_time": "2020-08-23T22:00:46.550746",
     "exception": false,
     "start_time": "2020-08-23T22:00:46.517174",
     "status": "completed"
    },
    "tags": []
   },
   "source": [
    "<span style='font-size: 15pt; color: darkblue;'>Conclusion</span>\n",
    "\n",
    "Percentage of Survivors by Sex\n",
    "+ Men tended to outlive women\n",
    "\n",
    "Percentage of Sex that Survivors\n",
    "+ The percentage of deaths is similar between genders, 43% of women died and 46% of men died, but of the survivors, the majority who survived were men\n",
    "+ probably, the previous graphics of violin plot that spoke of the young age of the women who survived, referred to a few women\n",
    "\n",
    "Percentage of Categories that Survived\n",
    "+ Although more passengers have survived (because there are 4x more passengers than people on the technical team), the technical team (Crew) had a higher survival rate.\n",
    "\n",
    "\n",
    "<!--\n",
    "Percentage of Survivors by Sex\n",
    "+ Os homens tenderam a sobreviver mais que as mulheres\n",
    "\n",
    "Percentage of Sex that Survivors\n",
    "+ A porcentagem de mortes é parecida entre os sexo, 43% das mulhres morreram e 46% dos homens morreram, mas dos sobreviventes, a maioria que sobreviveu foram homens\n",
    "+ provavelmente, os graficos anteriores de violin plot que falaram de pouca idade das mulheres que sobreviream, se referiam a poucas mulhres\n",
    "\n",
    "Percentage of Categories that Survived\n",
    "+ Apesar de mais passageiros terem sobrevivido (Pois há 4x mais passageiros que gente da equipe técnica), a equipe técnica (Crew) apresentram uma maior taxa de sobrevivência.\n",
    "-->"
   ]
  },
  {
   "cell_type": "markdown",
   "execution_count": null,
   "metadata": {
    "papermill": {
     "duration": 0.035239,
     "end_time": "2020-08-23T22:00:46.618838",
     "exception": false,
     "start_time": "2020-08-23T22:00:46.583599",
     "status": "completed"
    },
    "tags": []
   },
   "source": [
    "## Correlation <a id='index11'></a> <a href=\"#top\" class=\"btn btn-primary btn-sm\" role=\"button\" aria-pressed=\"true\" style=\"color:white; margin-left: 20px;\" data-toggle=\"popover\">Go to TOC</a>"
   ]
  },
  {
   "cell_type": "code",
   "execution_count": 34,
   "metadata": {
    "execution": {
     "iopub.execute_input": "2020-08-23T22:00:46.700144Z",
     "iopub.status.busy": "2020-08-23T22:00:46.699341Z",
     "iopub.status.idle": "2020-08-23T22:00:46.714586Z",
     "shell.execute_reply": "2020-08-23T22:00:46.713751Z"
    },
    "papermill": {
     "duration": 0.06151,
     "end_time": "2020-08-23T22:00:46.714734",
     "exception": false,
     "start_time": "2020-08-23T22:00:46.653224",
     "status": "completed"
    },
    "tags": []
   },
   "outputs": [
    {
     "data": {
      "text/html": [
       "<div>\n",
       "<style scoped>\n",
       "    .dataframe tbody tr th:only-of-type {\n",
       "        vertical-align: middle;\n",
       "    }\n",
       "\n",
       "    .dataframe tbody tr th {\n",
       "        vertical-align: top;\n",
       "    }\n",
       "\n",
       "    .dataframe thead th {\n",
       "        text-align: right;\n",
       "    }\n",
       "</style>\n",
       "<table border=\"1\" class=\"dataframe\">\n",
       "  <thead>\n",
       "    <tr style=\"text-align: right;\">\n",
       "      <th></th>\n",
       "      <th>Sex</th>\n",
       "      <th>Age</th>\n",
       "      <th>Category</th>\n",
       "      <th>Survived</th>\n",
       "    </tr>\n",
       "  </thead>\n",
       "  <tbody>\n",
       "    <tr>\n",
       "      <th>0</th>\n",
       "      <td>0</td>\n",
       "      <td>62</td>\n",
       "      <td>0</td>\n",
       "      <td>0</td>\n",
       "    </tr>\n",
       "    <tr>\n",
       "      <th>1</th>\n",
       "      <td>1</td>\n",
       "      <td>22</td>\n",
       "      <td>1</td>\n",
       "      <td>0</td>\n",
       "    </tr>\n",
       "    <tr>\n",
       "      <th>2</th>\n",
       "      <td>1</td>\n",
       "      <td>21</td>\n",
       "      <td>1</td>\n",
       "      <td>0</td>\n",
       "    </tr>\n",
       "  </tbody>\n",
       "</table>\n",
       "</div>"
      ],
      "text/plain": [
       "   Sex  Age  Category  Survived\n",
       "0    0   62         0         0\n",
       "1    1   22         1         0\n",
       "2    1   21         1         0"
      ]
     },
     "execution_count": 34,
     "metadata": {},
     "output_type": "execute_result"
    }
   ],
   "source": [
    "replace_list = {\"Sex\":{\"M\":0,\"F\":1}, \"Category\":{\"P\":0,\"C\":1}}\n",
    "\n",
    "df_corr = df.replace(replace_list).drop(['PassengerId', 'Country','Firstname','Lastname'], axis = 1)\n",
    "df_corr.head(3)"
   ]
  },
  {
   "cell_type": "code",
   "execution_count": 35,
   "metadata": {
    "execution": {
     "iopub.execute_input": "2020-08-23T22:00:46.799126Z",
     "iopub.status.busy": "2020-08-23T22:00:46.797835Z",
     "iopub.status.idle": "2020-08-23T22:00:47.091763Z",
     "shell.execute_reply": "2020-08-23T22:00:47.090720Z"
    },
    "papermill": {
     "duration": 0.341821,
     "end_time": "2020-08-23T22:00:47.091943",
     "exception": false,
     "start_time": "2020-08-23T22:00:46.750122",
     "status": "completed"
    },
    "tags": []
   },
   "outputs": [
    {
     "data": {
      "image/png": "[encoded data removed]",
      "text/plain": [
       "<Figure size 576x432 with 2 Axes>"
      ]
     },
     "metadata": {},
     "output_type": "display_data"
    }
   ],
   "source": [
    "corr = df_corr.corr()\n",
    "mask = np.zeros_like(corr)\n",
    "mask[np.triu_indices_from(mask)] = True\n",
    "\n",
    "f, ax1 = plt.subplots(figsize=(8,6))\n",
    "sns.heatmap(corr, cmap='coolwarm_r', \n",
    "            annot=True, annot_kws={'size':15}, ax=ax1, mask=mask)\n",
    "\n",
    "ax1.set_title(\"Correlation\", fontsize=14)\n",
    "\n",
    "plt.show()"
   ]
  },
  {
   "cell_type": "markdown",
   "execution_count": null,
   "metadata": {
    "papermill": {
     "duration": 0.033912,
     "end_time": "2020-08-23T22:00:47.162150",
     "exception": false,
     "start_time": "2020-08-23T22:00:47.128238",
     "status": "completed"
    },
    "tags": []
   },
   "source": [
    "As correlações são em sua maioria fraca, mas a melhor é 'Age'\n",
    "\n",
    "## Unbalanced DataSet <a id='index09'></a> <a href=\"#top\" class=\"btn btn-primary btn-sm\" role=\"button\" aria-pressed=\"true\" style=\"color:white; margin-left: 20px;\" data-toggle=\"popover\">Go to TOC</a>\n",
    "\n",
    "Significa que, se se chutarmos sempre que todo mundo vai morrer, então: Nunca teriamos acertariamos que alguem iria sobreveier e teriamos um score de 87% que é alto. Uma métrica melhor para avliar as duas tarefas do modelo: Classifica se sobrivive ou nâo corretamente, é usar f1-score que avalia precisao (acerta) e recall (detectar)"
   ]
  },
  {
   "cell_type": "code",
   "execution_count": 36,
   "metadata": {
    "execution": {
     "iopub.execute_input": "2020-08-23T22:00:47.256104Z",
     "iopub.status.busy": "2020-08-23T22:00:47.254719Z",
     "iopub.status.idle": "2020-08-23T22:00:47.496187Z",
     "shell.execute_reply": "2020-08-23T22:00:47.495344Z"
    },
    "papermill": {
     "duration": 0.294051,
     "end_time": "2020-08-23T22:00:47.496329",
     "exception": false,
     "start_time": "2020-08-23T22:00:47.202278",
     "status": "completed"
    },
    "tags": []
   },
   "outputs": [
    {
     "data": {
      "image/png": "[encoded data removed]",
      "text/plain": [
       "<Figure size 864x288 with 2 Axes>"
      ]
     },
     "metadata": {},
     "output_type": "display_data"
    }
   ],
   "source": [
    "eda_categ_feat_desc_plot(df['Survived'], 'Remember, is a Unbalanced DataSet: Survived Rate')"
   ]
  },
  {
   "cell_type": "markdown",
   "execution_count": null,
   "metadata": {
    "papermill": {
     "duration": 0.034239,
     "end_time": "2020-08-23T22:00:47.564580",
     "exception": false,
     "start_time": "2020-08-23T22:00:47.530341",
     "status": "completed"
    },
    "tags": []
   },
   "source": [
    "\n",
    "\n",
    "## Pre-Processing <a id='index23'></a> <a href=\"#top\" class=\"btn btn-primary btn-sm\" role=\"button\" aria-pressed=\"true\" style=\"color:white; margin-left: 20px;\" data-toggle=\"popover\">Go to TOC</a>\n"
   ]
  },
  {
   "cell_type": "code",
   "execution_count": 37,
   "metadata": {
    "execution": {
     "iopub.execute_input": "2020-08-23T22:00:47.644518Z",
     "iopub.status.busy": "2020-08-23T22:00:47.643336Z",
     "iopub.status.idle": "2020-08-23T22:00:47.647947Z",
     "shell.execute_reply": "2020-08-23T22:00:47.646850Z"
    },
    "papermill": {
     "duration": 0.046599,
     "end_time": "2020-08-23T22:00:47.648100",
     "exception": false,
     "start_time": "2020-08-23T22:00:47.601501",
     "status": "completed"
    },
    "tags": []
   },
   "outputs": [],
   "source": [
    "from sklearn.preprocessing import StandardScaler\n",
    "from sklearn.preprocessing import MinMaxScaler\n",
    "from sklearn.preprocessing import LabelEncoder"
   ]
  },
  {
   "cell_type": "markdown",
   "execution_count": null,
   "metadata": {
    "papermill": {
     "duration": 0.040169,
     "end_time": "2020-08-23T22:00:47.725927",
     "exception": false,
     "start_time": "2020-08-23T22:00:47.685758",
     "status": "completed"
    },
    "tags": []
   },
   "source": [
    "### Commun Pre-Processing\n",
    "\n",
    "Take Sex, Age and Category\n",
    "\n",
    "Medium Results"
   ]
  },
  {
   "cell_type": "code",
   "execution_count": 38,
   "metadata": {
    "execution": {
     "iopub.execute_input": "2020-08-23T22:00:47.808094Z",
     "iopub.status.busy": "2020-08-23T22:00:47.806869Z",
     "iopub.status.idle": "2020-08-23T22:00:47.810993Z",
     "shell.execute_reply": "2020-08-23T22:00:47.809777Z"
    },
    "papermill": {
     "duration": 0.047059,
     "end_time": "2020-08-23T22:00:47.811161",
     "exception": false,
     "start_time": "2020-08-23T22:00:47.764102",
     "status": "completed"
    },
    "tags": []
   },
   "outputs": [],
   "source": [
    "# x = df.loc[:,[\"Sex\",\"Age\",\"Category\"]]\n",
    "# y = df.loc[:,[\"Survived\"]]\n",
    "\n",
    "# # OneHotEncoding\n",
    "# x = pd.get_dummies(x)\n",
    "\n",
    "# # Scaling Age\n",
    "# sc = StandardScaler()  # Normal Distribution: mean 0, min -1 and max 1\n",
    "# x['Age'] = sc.fit_transform(x['Age'].values.reshape(-1,1))\n",
    "\n",
    "# x.head(3)"
   ]
  },
  {
   "cell_type": "markdown",
   "execution_count": null,
   "metadata": {
    "papermill": {
     "duration": 0.035053,
     "end_time": "2020-08-23T22:00:47.883456",
     "exception": false,
     "start_time": "2020-08-23T22:00:47.848403",
     "status": "completed"
    },
    "tags": []
   },
   "source": [
    "### Country Influence Pre-Processing (BEST)\n",
    "\n",
    "Based in https://www.kaggle.com/abhijithchandradas/pen-random-forest-model-beating-baseline-88-47\n",
    "\n",
    "Make good Results"
   ]
  },
  {
   "cell_type": "code",
   "execution_count": 39,
   "metadata": {
    "execution": {
     "iopub.execute_input": "2020-08-23T22:00:47.972344Z",
     "iopub.status.busy": "2020-08-23T22:00:47.971051Z",
     "iopub.status.idle": "2020-08-23T22:00:47.976820Z",
     "shell.execute_reply": "2020-08-23T22:00:47.976094Z"
    },
    "papermill": {
     "duration": 0.056662,
     "end_time": "2020-08-23T22:00:47.976969",
     "exception": false,
     "start_time": "2020-08-23T22:00:47.920307",
     "status": "completed"
    },
    "tags": []
   },
   "outputs": [
    {
     "data": {
      "text/html": [
       "<div>\n",
       "<style scoped>\n",
       "    .dataframe tbody tr th:only-of-type {\n",
       "        vertical-align: middle;\n",
       "    }\n",
       "\n",
       "    .dataframe tbody tr th {\n",
       "        vertical-align: top;\n",
       "    }\n",
       "\n",
       "    .dataframe thead th {\n",
       "        text-align: right;\n",
       "    }\n",
       "</style>\n",
       "<table border=\"1\" class=\"dataframe\">\n",
       "  <thead>\n",
       "    <tr style=\"text-align: right;\">\n",
       "      <th></th>\n",
       "      <th>Sex</th>\n",
       "      <th>Age</th>\n",
       "      <th>Category</th>\n",
       "      <th>Country</th>\n",
       "    </tr>\n",
       "  </thead>\n",
       "  <tbody>\n",
       "    <tr>\n",
       "      <th>0</th>\n",
       "      <td>M</td>\n",
       "      <td>62</td>\n",
       "      <td>P</td>\n",
       "      <td>Sweden</td>\n",
       "    </tr>\n",
       "  </tbody>\n",
       "</table>\n",
       "</div>"
      ],
      "text/plain": [
       "  Sex  Age Category Country\n",
       "0   M   62        P  Sweden"
      ]
     },
     "execution_count": 39,
     "metadata": {},
     "output_type": "execute_result"
    }
   ],
   "source": [
    "x = df.loc[:,[\"Sex\",\"Age\",\"Category\",\"Country\"]]\n",
    "y = df.loc[:,[\"Survived\"]]\n",
    "\n",
    "x.head(1)"
   ]
  },
  {
   "cell_type": "code",
   "execution_count": 40,
   "metadata": {
    "execution": {
     "iopub.execute_input": "2020-08-23T22:00:48.065656Z",
     "iopub.status.busy": "2020-08-23T22:00:48.064805Z",
     "iopub.status.idle": "2020-08-23T22:00:48.081353Z",
     "shell.execute_reply": "2020-08-23T22:00:48.080670Z"
    },
    "papermill": {
     "duration": 0.068485,
     "end_time": "2020-08-23T22:00:48.081523",
     "exception": false,
     "start_time": "2020-08-23T22:00:48.013038",
     "status": "completed"
    },
    "tags": []
   },
   "outputs": [
    {
     "data": {
      "text/html": [
       "<div>\n",
       "<style scoped>\n",
       "    .dataframe tbody tr th:only-of-type {\n",
       "        vertical-align: middle;\n",
       "    }\n",
       "\n",
       "    .dataframe tbody tr th {\n",
       "        vertical-align: top;\n",
       "    }\n",
       "\n",
       "    .dataframe thead th {\n",
       "        text-align: right;\n",
       "    }\n",
       "</style>\n",
       "<table border=\"1\" class=\"dataframe\">\n",
       "  <thead>\n",
       "    <tr style=\"text-align: right;\">\n",
       "      <th></th>\n",
       "      <th>Age</th>\n",
       "      <th>Sex_M</th>\n",
       "      <th>Category_P</th>\n",
       "      <th>Country_Others</th>\n",
       "      <th>Country_Sweden</th>\n",
       "    </tr>\n",
       "  </thead>\n",
       "  <tbody>\n",
       "    <tr>\n",
       "      <th>0</th>\n",
       "      <td>1.0115</td>\n",
       "      <td>1</td>\n",
       "      <td>1</td>\n",
       "      <td>0</td>\n",
       "      <td>1</td>\n",
       "    </tr>\n",
       "    <tr>\n",
       "      <th>1</th>\n",
       "      <td>-1.3105</td>\n",
       "      <td>0</td>\n",
       "      <td>0</td>\n",
       "      <td>0</td>\n",
       "      <td>0</td>\n",
       "    </tr>\n",
       "    <tr>\n",
       "      <th>2</th>\n",
       "      <td>-1.3686</td>\n",
       "      <td>0</td>\n",
       "      <td>0</td>\n",
       "      <td>0</td>\n",
       "      <td>0</td>\n",
       "    </tr>\n",
       "  </tbody>\n",
       "</table>\n",
       "</div>"
      ],
      "text/plain": [
       "      Age  Sex_M  Category_P  Country_Others  Country_Sweden\n",
       "0  1.0115      1           1               0               1\n",
       "1 -1.3105      0           0               0               0\n",
       "2 -1.3686      0           0               0               0"
      ]
     },
     "execution_count": 40,
     "metadata": {},
     "output_type": "execute_result"
    }
   ],
   "source": [
    "# Separate Country in Estonia, Sweden and Others\n",
    "x['Country'] = x['Country'].apply(lambda x: 'Estonia' if x == 'Estonia' \n",
    "                                  else ('Sweden' if x == 'Sweden' else 'Others'))\n",
    "\n",
    "sc = StandardScaler()  # Normal Distribution: mean 0, min -1 and max 1\n",
    "x['Age'] = sc.fit_transform(x['Age'].values.reshape(-1,1))\n",
    "\n",
    "x = pd.get_dummies(x, drop_first=True) # Remove EstoniaColumn\n",
    "\n",
    "x.head(3)"
   ]
  },
  {
   "cell_type": "markdown",
   "execution_count": null,
   "metadata": {
    "papermill": {
     "duration": 0.035749,
     "end_time": "2020-08-23T22:00:48.152894",
     "exception": false,
     "start_time": "2020-08-23T22:00:48.117145",
     "status": "completed"
    },
    "tags": []
   },
   "source": [
    "### LastName Pre-Processing\n",
    "\n",
    "Include LastName encodig with label encondig (0,1,2,3 ... to each unique value)\n",
    "\n",
    "Made Poor Results"
   ]
  },
  {
   "cell_type": "code",
   "execution_count": 41,
   "metadata": {
    "execution": {
     "iopub.execute_input": "2020-08-23T22:00:48.233352Z",
     "iopub.status.busy": "2020-08-23T22:00:48.232542Z",
     "iopub.status.idle": "2020-08-23T22:00:48.236334Z",
     "shell.execute_reply": "2020-08-23T22:00:48.235633Z"
    },
    "papermill": {
     "duration": 0.044622,
     "end_time": "2020-08-23T22:00:48.236499",
     "exception": false,
     "start_time": "2020-08-23T22:00:48.191877",
     "status": "completed"
    },
    "tags": []
   },
   "outputs": [],
   "source": [
    "# x = df.loc[:,[\"Sex\",\"Age\",\"Category\",\"Country\", \"Lastname\"]]\n",
    "# y = df.loc[:,[\"Survived\"]]\n",
    "\n",
    "# x['Country']= [1 if el =='Estonia' or el =='Sweden' else 0 for el in x['Country']] \n",
    "\n",
    "# sc = StandardScaler()  \n",
    "# x['Age'] = sc.fit_transform(x['Age'].values.reshape(-1,1))\n",
    "\n",
    "# encode = LabelEncoder()\n",
    "# x['Sex']=encode.fit_transform(x['Sex'])\n",
    "# x['Lastname']=encode.fit_transform(x['Lastname'])\n",
    "# x['Category'] =encode.fit_transform(x['Category'])\n",
    "\n",
    "# x.head(3)"
   ]
  },
  {
   "cell_type": "markdown",
   "execution_count": null,
   "metadata": {
    "papermill": {
     "duration": 0.03636,
     "end_time": "2020-08-23T22:00:48.308278",
     "exception": false,
     "start_time": "2020-08-23T22:00:48.271918",
     "status": "completed"
    },
    "tags": []
   },
   "source": [
    "## Split in Train Test a Unbalanced DataSet <a id='index24'></a> <a href=\"#top\" class=\"btn btn-primary btn-sm\" role=\"button\" aria-pressed=\"true\" style=\"color:white; margin-left: 20px;\" data-toggle=\"popover\">Go to TOC</a>"
   ]
  },
  {
   "cell_type": "code",
   "execution_count": 42,
   "metadata": {
    "execution": {
     "iopub.execute_input": "2020-08-23T22:00:48.390012Z",
     "iopub.status.busy": "2020-08-23T22:00:48.389101Z",
     "iopub.status.idle": "2020-08-23T22:00:48.426872Z",
     "shell.execute_reply": "2020-08-23T22:00:48.427619Z"
    },
    "papermill": {
     "duration": 0.083729,
     "end_time": "2020-08-23T22:00:48.427846",
     "exception": false,
     "start_time": "2020-08-23T22:00:48.344117",
     "status": "completed"
    },
    "tags": []
   },
   "outputs": [
    {
     "name": "stdout",
     "output_type": "stream",
     "text": [
      "Original Size: 989\n",
      "\n",
      "Train: must be 80% of dataset:\n",
      " the train dataset has 792 rows this is (80.08%) of original dataset \n",
      " => Classe 0 (Death): 682 (86.11%) \n",
      " => Classe 1 (Survives): 110 (13.89%) \n",
      "\n",
      "Test: must be 20% of dataset:\n",
      " the test dataset has 197 rows this is (19.92%) of original dataset \n",
      " => Classe 0 (Death): 170 (86.29%) \n",
      " => Classe 1 (Survives): 27 (13.71%)\n"
     ]
    }
   ],
   "source": [
    "from sklearn.model_selection import KFold, StratifiedKFold\n",
    "\n",
    "kfold = StratifiedKFold(n_splits=5, random_state=42, shuffle=True)\n",
    "\n",
    "for train_index, test_index in kfold.split(x, y):\n",
    "    x_train, x_test = x.iloc[train_index].values, x.iloc[test_index].values\n",
    "    y_train, y_test = y.iloc[train_index].values, y.iloc[test_index].values\n",
    "\n",
    "check_balanced_train_test_binary(x_train, y_train, x_test, y_test, len(df), ['Death', 'Survives'])"
   ]
  },
  {
   "cell_type": "markdown",
   "execution_count": null,
   "metadata": {
    "papermill": {
     "duration": 0.035545,
     "end_time": "2020-08-23T22:00:48.498926",
     "exception": false,
     "start_time": "2020-08-23T22:00:48.463381",
     "status": "completed"
    },
    "tags": []
   },
   "source": [
    "## Test various ways to correct unbalanced dataset <a id='index25'></a> <a href=\"#top\" class=\"btn btn-primary btn-sm\" role=\"button\" aria-pressed=\"true\" style=\"color:white; margin-left: 20px;\" data-toggle=\"popover\">Go to TOC</a>\n",
    "\n",
    "Dont produce good results, decreases accuracy and increases f1 score\n",
    "\n",
    "To use just exchange x_train, y_train by xsm_train, ysm_train"
   ]
  },
  {
   "cell_type": "code",
   "execution_count": 43,
   "metadata": {
    "execution": {
     "iopub.execute_input": "2020-08-23T22:00:48.587017Z",
     "iopub.status.busy": "2020-08-23T22:00:48.586191Z",
     "iopub.status.idle": "2020-08-23T22:00:49.038969Z",
     "shell.execute_reply": "2020-08-23T22:00:49.038085Z"
    },
    "papermill": {
     "duration": 0.503124,
     "end_time": "2020-08-23T22:00:49.039118",
     "exception": false,
     "start_time": "2020-08-23T22:00:48.535994",
     "status": "completed"
    },
    "tags": []
   },
   "outputs": [
    {
     "name": "stdout",
     "output_type": "stream",
     "text": [
      "train dataset before 792\n",
      "imb_strategy: SMOTE\n",
      "train dataset before 1364 generate 572\n"
     ]
    }
   ],
   "source": [
    "from imblearn.over_sampling import RandomOverSampler, SMOTE, ADASYN, SVMSMOTE, BorderlineSMOTE\n",
    "from imblearn.under_sampling import RandomUnderSampler, TomekLinks, NearMiss\n",
    "from imblearn.combine import SMOTEENN, SMOTETomek # over and under sampling\n",
    "from imblearn.metrics import classification_report_imbalanced\n",
    "\n",
    "imb_models = {\n",
    "    'ADASYN': ADASYN(),\n",
    "    'SMOTE': SMOTE(random_state=42),\n",
    "    'SMOTEENN': SMOTEENN(\"minority\", random_state=42),\n",
    "    'SMOTETomek': SMOTETomek(tomek=TomekLinks(sampling_strategy='majority')),\n",
    "    'RandomUnderSampler': RandomUnderSampler()\n",
    "}\n",
    "\n",
    "imb_strategy = \"SMOTE\"\n",
    "\n",
    "if(imb_strategy != \"None\"):\n",
    "    print(\"train dataset before\", x_train.shape[0])\n",
    "    print(\"imb_strategy:\", imb_strategy)\n",
    "\n",
    "    imb_tranformer = imb_models[imb_strategy]\n",
    "    \n",
    "    # x_train, y_train | xsm_train, ysm_train\n",
    "    xsm_train, ysm_train = imb_tranformer.fit_sample(x_train, y_train)\n",
    "\n",
    "    print(\"train dataset before\", xsm_train.shape[0],\n",
    "          'generate', xsm_train.shape[0] - x_train.shape[0] )\n",
    "else:\n",
    "    print(\"Dont correct unbalanced dataset\")"
   ]
  },
  {
   "cell_type": "markdown",
   "execution_count": null,
   "metadata": {
    "papermill": {
     "duration": 0.035434,
     "end_time": "2020-08-23T22:00:49.112296",
     "exception": false,
     "start_time": "2020-08-23T22:00:49.076862",
     "status": "completed"
    },
    "tags": []
   },
   "source": [
    "## Fit multiple models and Compare <a id='index26'></a> <a href=\"#top\" class=\"btn btn-primary btn-sm\" role=\"button\" aria-pressed=\"true\" style=\"color:white; margin-left: 20px;\" data-toggle=\"popover\">Go to TOC</a>"
   ]
  },
  {
   "cell_type": "code",
   "execution_count": 44,
   "metadata": {
    "execution": {
     "iopub.execute_input": "2020-08-23T22:00:49.193491Z",
     "iopub.status.busy": "2020-08-23T22:00:49.192629Z",
     "iopub.status.idle": "2020-08-23T22:00:50.299889Z",
     "shell.execute_reply": "2020-08-23T22:00:50.298559Z"
    },
    "papermill": {
     "duration": 1.153483,
     "end_time": "2020-08-23T22:00:50.300139",
     "exception": false,
     "start_time": "2020-08-23T22:00:49.146656",
     "status": "completed"
    },
    "tags": []
   },
   "outputs": [],
   "source": [
    "# use: x_train, y_train, x_test, y_test\n",
    "\n",
    "# Classifier Libraries\n",
    "from sklearn.naive_bayes import GaussianNB\n",
    "from sklearn.neighbors import KNeighborsClassifier\n",
    "from sklearn.linear_model import LogisticRegression\n",
    "from sklearn.tree import DecisionTreeClassifier\n",
    "from sklearn.svm import SVC\n",
    "\n",
    "# Ensemble Classifiers\n",
    "from sklearn.ensemble import AdaBoostClassifier\n",
    "from sklearn.ensemble import GradientBoostingClassifier\n",
    "from sklearn.ensemble import BaggingClassifier\n",
    "from sklearn.ensemble import RandomForestClassifier\n",
    "from sklearn.ensemble import ExtraTreesClassifier\n",
    "\n",
    "# Others Linear Classifiers\n",
    "from sklearn.linear_model import SGDClassifier, RidgeClassifier\n",
    "from sklearn.linear_model import Perceptron, PassiveAggressiveClassifier\n",
    "\n",
    "# xboost\n",
    "from xgboost import XGBClassifier\n",
    "from lightgbm import LGBMClassifier\n",
    "\n",
    "# scores\n",
    "from sklearn.model_selection import cross_val_score\n",
    "from sklearn.metrics import f1_score\n",
    "from sklearn.metrics import accuracy_score\n",
    "\n",
    "# neural net of sklearn\n",
    "from sklearn.neural_network import MLPClassifier\n",
    "\n",
    "# others\n",
    "import time\n",
    "import operator"
   ]
  },
  {
   "cell_type": "code",
   "execution_count": 45,
   "metadata": {
    "execution": {
     "iopub.execute_input": "2020-08-23T22:00:50.412224Z",
     "iopub.status.busy": "2020-08-23T22:00:50.405711Z",
     "iopub.status.idle": "2020-08-23T22:00:50.418873Z",
     "shell.execute_reply": "2020-08-23T22:00:50.417462Z"
    },
    "papermill": {
     "duration": 0.07169,
     "end_time": "2020-08-23T22:00:50.419444",
     "exception": false,
     "start_time": "2020-08-23T22:00:50.347754",
     "status": "completed"
    },
    "tags": []
   },
   "outputs": [],
   "source": [
    "# def neural nets\n",
    "mlp = MLPClassifier(verbose = False, max_iter=1000, tol = 0.000010,\n",
    "                    solver = 'adam', hidden_layer_sizes=(100), activation='relu')\n",
    "\n",
    "# def classifiers\n",
    "\n",
    "nn_classifiers = {\n",
    "    \"Multi Layer Perceptron\": mlp\n",
    "}\n",
    "\n",
    "linear_classifiers = {\n",
    "    \"SGDC\": SGDClassifier(),\n",
    "    \"Ridge\": RidgeClassifier(),\n",
    "    \"Perceptron\": Perceptron(),\n",
    "    \"PassiveAggressive\": PassiveAggressiveClassifier()\n",
    "}\n",
    "\n",
    "gboost_classifiers = {\n",
    "    \"XGBoost\": XGBClassifier(),\n",
    "    \"LightGB\": LGBMClassifier(),\n",
    "}\n",
    "\n",
    "classifiers = {\n",
    "    \"Naive Bayes\": GaussianNB(),\n",
    "    \"Logisitic Regression\": LogisticRegression(),\n",
    "    \"KNearest\": KNeighborsClassifier(),\n",
    "    \"Support Vector Machine\": SVC(),\n",
    "    \"Decision Tree\": DecisionTreeClassifier()\n",
    "}\n",
    "\n",
    "ensemble_classifiers = {\n",
    "    \"AdaBoost\": AdaBoostClassifier(),\n",
    "    \"GBoost\": GradientBoostingClassifier(),\n",
    "    \"Bagging\": BaggingClassifier(),\n",
    "    \"Random Forest\": RandomForestClassifier(),\n",
    "    \"Extra Trees\": ExtraTreesClassifier()    \n",
    "}\n",
    "\n",
    "all_classifiers = {\n",
    "    \"Simple Models\": classifiers,\n",
    "    \"Ensemble Models\": ensemble_classifiers,\n",
    "    \"GBoost Models\": gboost_classifiers,\n",
    "    \"NeuralNet Models\": nn_classifiers,\n",
    "    \"Others Linear Models\": linear_classifiers,\n",
    "}\n",
    "\n",
    "metrics = {\n",
    "    'cv_scores': {},\n",
    "    'acc_scores': {},\n",
    "    'f1_mean_scores': {},\n",
    "}"
   ]
  },
  {
   "cell_type": "code",
   "execution_count": 46,
   "metadata": {
    "execution": {
     "iopub.execute_input": "2020-08-23T22:00:50.518055Z",
     "iopub.status.busy": "2020-08-23T22:00:50.513459Z",
     "iopub.status.idle": "2020-08-23T22:01:07.905175Z",
     "shell.execute_reply": "2020-08-23T22:01:07.904510Z"
    },
    "papermill": {
     "duration": 17.439747,
     "end_time": "2020-08-23T22:01:07.905335",
     "exception": false,
     "start_time": "2020-08-23T22:00:50.465588",
     "status": "completed"
    },
    "tags": []
   },
   "outputs": [
    {
     "name": "stdout",
     "output_type": "stream",
     "text": [
      "Fit Many Classifiers\n",
      "\n",
      "Done in 17.361 s \n",
      "\n",
      "Best cv score: ('Perceptron', 86.24000000000001)\n",
      "Best Accuracy score: ('Support Vector Machine', 0.8629441624365483)\n",
      "Best F1 score: ('Random Forest', 0.6137254901960785)\n"
     ]
    }
   ],
   "source": [
    "format_float = \"{:.4f}\"\n",
    "\n",
    "is_print = False # True/False\n",
    "\n",
    "time_start = time.time()\n",
    "\n",
    "print(\"Fit Many Classifiers\")\n",
    "\n",
    "for key, classifiers in all_classifiers.items():\n",
    "    if (is_print):\n",
    "        print(\"\\n{}\\n\".format(key))\n",
    "    for key, classifier in classifiers.items():\n",
    "        t0 = time.time()\n",
    "        # xsm_train, ysm_train || x_train, y_train\n",
    "        classifier.fit(x_train, y_train) \n",
    "        t1 = time.time()\n",
    "        # xsm_train, ysm_train || x_train, y_train\n",
    "        training_score = cross_val_score(classifier, x_train, y_train, cv=5) \n",
    "        y_pred = classifier.predict(x_test)\n",
    "        cv_score = round(training_score.mean(), 4) * 100\n",
    "        acc_score = accuracy_score(y_test, y_pred)\n",
    "        f1_mean_score = f1_score(y_test, y_pred, average=\"macro\") # average =  'macro' or 'weighted'\n",
    "        if (is_print):\n",
    "            print(key, \"\\n\\tHas a training score of\", \n",
    "                  cv_score, \"% accuracy score on CrossVal with 5 cv \")\n",
    "            print(\"\\tTesting:\")\n",
    "            print(\"\\tAccuracy in Test:\", format_float.format(acc_score))\n",
    "            print(\"\\tF1-mean Score:\", format_float.format(f1_mean_score)) \n",
    "            print(\"\\t\\tTime: The fit time took {:.2} s\".format(t1 - t0), '\\n')\n",
    "        metrics['cv_scores'][key] = cv_score\n",
    "        metrics['acc_scores'][key] = acc_score\n",
    "        metrics['f1_mean_scores'][key] = f1_mean_score\n",
    "        \n",
    "time_end = time.time()\n",
    "        \n",
    "print(\"\\nDone in {:.5} s\".format(time_end - time_start), '\\n')\n",
    "        \n",
    "print(\"Best cv score:\", max( metrics['cv_scores'].items(), key=operator.itemgetter(1) ))\n",
    "print(\"Best Accuracy score:\", max( metrics['acc_scores'].items(), key=operator.itemgetter(1) ))\n",
    "print(\"Best F1 score:\", max( metrics['f1_mean_scores'].items(), key=operator.itemgetter(1) ))\n",
    "\n",
    "lists = [list(metrics['cv_scores'].values()),\n",
    "         list(metrics['acc_scores'].values()),\n",
    "         list(metrics['f1_mean_scores'].values())\n",
    "        ]\n",
    "\n",
    "a_columns = list(metrics['cv_scores'].keys())\n",
    "\n",
    "df_metrics = pd.DataFrame(lists , columns = a_columns,\n",
    "                    index = ['cv_scores', 'acc_scores', 'f1_scores'] )"
   ]
  },
  {
   "cell_type": "code",
   "execution_count": 47,
   "metadata": {
    "execution": {
     "iopub.execute_input": "2020-08-23T22:01:08.012740Z",
     "iopub.status.busy": "2020-08-23T22:01:08.011759Z",
     "iopub.status.idle": "2020-08-23T22:01:08.019368Z",
     "shell.execute_reply": "2020-08-23T22:01:08.020714Z"
    },
    "papermill": {
     "duration": 0.077183,
     "end_time": "2020-08-23T22:01:08.021013",
     "exception": false,
     "start_time": "2020-08-23T22:01:07.943830",
     "status": "completed"
    },
    "tags": []
   },
   "outputs": [
    {
     "data": {
      "text/html": [
       "<div>\n",
       "<style scoped>\n",
       "    .dataframe tbody tr th:only-of-type {\n",
       "        vertical-align: middle;\n",
       "    }\n",
       "\n",
       "    .dataframe tbody tr th {\n",
       "        vertical-align: top;\n",
       "    }\n",
       "\n",
       "    .dataframe thead th {\n",
       "        text-align: right;\n",
       "    }\n",
       "</style>\n",
       "<table border=\"1\" class=\"dataframe\">\n",
       "  <thead>\n",
       "    <tr style=\"text-align: right;\">\n",
       "      <th></th>\n",
       "      <th>cv_scores</th>\n",
       "      <th>acc_scores</th>\n",
       "      <th>f1_scores</th>\n",
       "    </tr>\n",
       "  </thead>\n",
       "  <tbody>\n",
       "    <tr>\n",
       "      <th>SGDC</th>\n",
       "      <td>83.5800</td>\n",
       "      <td>0.8629</td>\n",
       "      <td>0.4632</td>\n",
       "    </tr>\n",
       "    <tr>\n",
       "      <th>Support Vector Machine</th>\n",
       "      <td>86.1100</td>\n",
       "      <td>0.8629</td>\n",
       "      <td>0.4632</td>\n",
       "    </tr>\n",
       "    <tr>\n",
       "      <th>AdaBoost</th>\n",
       "      <td>84.3400</td>\n",
       "      <td>0.8629</td>\n",
       "      <td>0.5535</td>\n",
       "    </tr>\n",
       "    <tr>\n",
       "      <th>Ridge</th>\n",
       "      <td>85.9900</td>\n",
       "      <td>0.8629</td>\n",
       "      <td>0.4632</td>\n",
       "    </tr>\n",
       "    <tr>\n",
       "      <th>PassiveAggressive</th>\n",
       "      <td>84.3400</td>\n",
       "      <td>0.8528</td>\n",
       "      <td>0.4603</td>\n",
       "    </tr>\n",
       "    <tr>\n",
       "      <th>Logisitic Regression</th>\n",
       "      <td>85.3500</td>\n",
       "      <td>0.8528</td>\n",
       "      <td>0.4603</td>\n",
       "    </tr>\n",
       "    <tr>\n",
       "      <th>GBoost</th>\n",
       "      <td>82.3200</td>\n",
       "      <td>0.8426</td>\n",
       "      <td>0.4874</td>\n",
       "    </tr>\n",
       "    <tr>\n",
       "      <th>Multi Layer Perceptron</th>\n",
       "      <td>85.6100</td>\n",
       "      <td>0.8426</td>\n",
       "      <td>0.5140</td>\n",
       "    </tr>\n",
       "    <tr>\n",
       "      <th>XGBoost</th>\n",
       "      <td>83.5800</td>\n",
       "      <td>0.8376</td>\n",
       "      <td>0.5736</td>\n",
       "    </tr>\n",
       "    <tr>\n",
       "      <th>Bagging</th>\n",
       "      <td>82.3200</td>\n",
       "      <td>0.8325</td>\n",
       "      <td>0.5693</td>\n",
       "    </tr>\n",
       "    <tr>\n",
       "      <th>LightGB</th>\n",
       "      <td>83.9600</td>\n",
       "      <td>0.8325</td>\n",
       "      <td>0.5508</td>\n",
       "    </tr>\n",
       "    <tr>\n",
       "      <th>KNearest</th>\n",
       "      <td>84.3500</td>\n",
       "      <td>0.8274</td>\n",
       "      <td>0.5270</td>\n",
       "    </tr>\n",
       "    <tr>\n",
       "      <th>Perceptron</th>\n",
       "      <td>86.2400</td>\n",
       "      <td>0.8173</td>\n",
       "      <td>0.5877</td>\n",
       "    </tr>\n",
       "    <tr>\n",
       "      <th>Random Forest</th>\n",
       "      <td>82.4500</td>\n",
       "      <td>0.8173</td>\n",
       "      <td>0.6137</td>\n",
       "    </tr>\n",
       "    <tr>\n",
       "      <th>Extra Trees</th>\n",
       "      <td>82.1900</td>\n",
       "      <td>0.8173</td>\n",
       "      <td>0.5570</td>\n",
       "    </tr>\n",
       "    <tr>\n",
       "      <th>Decision Tree</th>\n",
       "      <td>82.0700</td>\n",
       "      <td>0.8173</td>\n",
       "      <td>0.5570</td>\n",
       "    </tr>\n",
       "    <tr>\n",
       "      <th>Naive Bayes</th>\n",
       "      <td>80.9400</td>\n",
       "      <td>0.7817</td>\n",
       "      <td>0.5313</td>\n",
       "    </tr>\n",
       "  </tbody>\n",
       "</table>\n",
       "</div>"
      ],
      "text/plain": [
       "                        cv_scores  acc_scores  f1_scores\n",
       "SGDC                      83.5800      0.8629     0.4632\n",
       "Support Vector Machine    86.1100      0.8629     0.4632\n",
       "AdaBoost                  84.3400      0.8629     0.5535\n",
       "Ridge                     85.9900      0.8629     0.4632\n",
       "PassiveAggressive         84.3400      0.8528     0.4603\n",
       "Logisitic Regression      85.3500      0.8528     0.4603\n",
       "GBoost                    82.3200      0.8426     0.4874\n",
       "Multi Layer Perceptron    85.6100      0.8426     0.5140\n",
       "XGBoost                   83.5800      0.8376     0.5736\n",
       "Bagging                   82.3200      0.8325     0.5693\n",
       "LightGB                   83.9600      0.8325     0.5508\n",
       "KNearest                  84.3500      0.8274     0.5270\n",
       "Perceptron                86.2400      0.8173     0.5877\n",
       "Random Forest             82.4500      0.8173     0.6137\n",
       "Extra Trees               82.1900      0.8173     0.5570\n",
       "Decision Tree             82.0700      0.8173     0.5570\n",
       "Naive Bayes               80.9400      0.7817     0.5313"
      ]
     },
     "execution_count": 47,
     "metadata": {},
     "output_type": "execute_result"
    }
   ],
   "source": [
    "lists = [list(metrics['cv_scores'].values()),\n",
    "         list(metrics['acc_scores'].values()),\n",
    "         list(metrics['f1_mean_scores'].values())\n",
    "        ]\n",
    "\n",
    "a_columns = list(metrics['cv_scores'].keys())\n",
    "\n",
    "dfre1 = pd.DataFrame(lists , columns = a_columns,\n",
    "                    index = ['cv_scores', 'acc_scores', 'f1_scores'] )\n",
    "\n",
    "dfre1 = dfre1.T.sort_values(by=\"acc_scores\", ascending=False)\n",
    "dfre1"
   ]
  },
  {
   "cell_type": "markdown",
   "execution_count": null,
   "metadata": {
    "papermill": {
     "duration": 0.038396,
     "end_time": "2020-08-23T22:01:08.107678",
     "exception": false,
     "start_time": "2020-08-23T22:01:08.069282",
     "status": "completed"
    },
    "tags": []
   },
   "source": [
    "## Best Individual Model: AdaBoost <a id='index27'></a> <a href=\"#top\" class=\"btn btn-primary btn-sm\" role=\"button\" aria-pressed=\"true\" style=\"color:white; margin-left: 20px;\" data-toggle=\"popover\">Go to TOC</a>"
   ]
  },
  {
   "cell_type": "code",
   "execution_count": 48,
   "metadata": {
    "execution": {
     "iopub.execute_input": "2020-08-23T22:01:08.199479Z",
     "iopub.status.busy": "2020-08-23T22:01:08.198182Z",
     "iopub.status.idle": "2020-08-23T22:01:08.350875Z",
     "shell.execute_reply": "2020-08-23T22:01:08.349620Z"
    },
    "papermill": {
     "duration": 0.203695,
     "end_time": "2020-08-23T22:01:08.351103",
     "exception": false,
     "start_time": "2020-08-23T22:01:08.147408",
     "status": "completed"
    },
    "tags": []
   },
   "outputs": [
    {
     "name": "stdout",
     "output_type": "stream",
     "text": [
      "[[167   3]\n",
      " [ 24   3]]\n",
      "              precision    recall  f1-score   support\n",
      "\n",
      "       Death       0.87      0.98      0.93       170\n",
      "    Survives       0.50      0.11      0.18        27\n",
      "\n",
      "    accuracy                           0.86       197\n",
      "   macro avg       0.69      0.55      0.55       197\n",
      "weighted avg       0.82      0.86      0.82       197\n",
      "\n"
     ]
    }
   ],
   "source": [
    "from sklearn.metrics import classification_report\n",
    "from sklearn.metrics import confusion_matrix\n",
    "\n",
    "# AdaBoost\n",
    "adaB = AdaBoostClassifier()\n",
    "adaB.fit(x_train,y_train)\n",
    "y_pred = adaB.predict(x_test)\n",
    "\n",
    "print(confusion_matrix(y_test, y_pred))\n",
    "print(classification_report(y_test, y_pred, target_names=['Death', 'Survives']))"
   ]
  },
  {
   "cell_type": "markdown",
   "execution_count": null,
   "metadata": {
    "papermill": {
     "duration": 0.041007,
     "end_time": "2020-08-23T22:01:08.431951",
     "exception": false,
     "start_time": "2020-08-23T22:01:08.390944",
     "status": "completed"
    },
    "tags": []
   },
   "source": [
    "## Super Learner (MLens) <a id='index28'></a> <a href=\"#top\" class=\"btn btn-primary btn-sm\" role=\"button\" aria-pressed=\"true\" style=\"color:white; margin-left: 20px;\" data-toggle=\"popover\">Go to TOC</a>\n",
    "\n",
    "reference: https://www.kaggle.com/nishantbhadauria/meta-learner-with-mlens-for-predicting-survival\n",
    "\n",
    "link to see more of SuperLeaner of mlens\n",
    "+ https://machinelearningmastery.com/super-learner-ensemble-in-python/\n",
    "+ http://flennerhag.com/\n",
    "\n",
    "Generates different results each time it is run"
   ]
  },
  {
   "cell_type": "code",
   "execution_count": 49,
   "metadata": {
    "execution": {
     "iopub.execute_input": "2020-08-23T22:01:08.526701Z",
     "iopub.status.busy": "2020-08-23T22:01:08.525751Z",
     "iopub.status.idle": "2020-08-23T22:01:30.515854Z",
     "shell.execute_reply": "2020-08-23T22:01:30.517003Z"
    },
    "papermill": {
     "duration": 22.045067,
     "end_time": "2020-08-23T22:01:30.517302",
     "exception": false,
     "start_time": "2020-08-23T22:01:08.472235",
     "status": "completed"
    },
    "tags": []
   },
   "outputs": [
    {
     "name": "stderr",
     "output_type": "stream",
     "text": [
      "[MLENS] backend: threading\n"
     ]
    },
    {
     "name": "stdout",
     "output_type": "stream",
     "text": [
      "                                   score-m  score-s  ft-m  ft-s  pt-m  pt-s\n",
      "layer-1  adaboostclassifier           0.85     0.04  1.35  0.10  0.02  0.01\n",
      "layer-1  baggingclassifier            0.83     0.03  2.34  0.24  0.05  0.01\n",
      "layer-1  decisiontreeclassifier       0.83     0.04  0.02  0.01  0.00  0.00\n",
      "layer-1  extratreesclassifier         0.82     0.05  1.39  0.20  0.03  0.00\n",
      "layer-1  gaussiannb                   0.81     0.04  0.01  0.00  0.00  0.00\n",
      "layer-1  kneighborsclassifier         0.83     0.04  0.00  0.00  0.04  0.01\n",
      "layer-1  logisticregression           0.85     0.04  0.01  0.00  0.00  0.00\n",
      "layer-1  randomforestclassifier       0.83     0.04  1.62  0.08  0.04  0.02\n",
      "layer-1  svc                          0.86     0.05  0.01  0.00  0.00  0.00\n",
      "layer-1  xgbclassifier                0.81     0.03  0.29  0.06  0.02  0.01\n",
      "\n",
      "SuperLeaner \n",
      "\n",
      "[[170   0]\n",
      " [ 26   1]]\n",
      "              precision    recall  f1-score   support\n",
      "\n",
      "       Death       0.87      1.00      0.93       170\n",
      "    Survives       1.00      0.04      0.07        27\n",
      "\n",
      "    accuracy                           0.87       197\n",
      "   macro avg       0.93      0.52      0.50       197\n",
      "weighted avg       0.89      0.87      0.81       197\n",
      "\n"
     ]
    }
   ],
   "source": [
    "from mlens.ensemble import SuperLearner\n",
    "\n",
    "# Define Models List\n",
    "models = list()\n",
    "models.append(LogisticRegression(solver='liblinear'))\n",
    "models.append(DecisionTreeClassifier())\n",
    "models.append(SVC(kernel='linear'))\n",
    "models.append(GaussianNB())\n",
    "models.append(KNeighborsClassifier())\n",
    "models.append(AdaBoostClassifier())    \n",
    "models.append(BaggingClassifier(n_estimators=100))\n",
    "models.append(RandomForestClassifier(n_estimators=100))\n",
    "models.append(ExtraTreesClassifier(n_estimators=100))\n",
    "models.append(XGBClassifier(scale_pos_weight=2))\n",
    "\n",
    "# Create Super Model\n",
    "ensemble = SuperLearner(scorer=accuracy_score, folds=10, shuffle=False, sample_size=len(x))\n",
    "ensemble.add(models)\n",
    "ensemble.add_meta(DecisionTreeClassifier()) # can change\n",
    "\n",
    "# Fit \n",
    "ensemble.fit(x_train, y_train)\n",
    "print(ensemble.data)\n",
    "\n",
    "# Pred\n",
    "y_pred = ensemble.predict(x_test)\n",
    "\n",
    "# Evaluate\n",
    "class_report(y_test, y_pred, name='SuperLeaner', labels=['Death', 'Survives'])\n",
    "\n",
    "# One time out: acc: 0.89, f1: 0.59"
   ]
  },
  {
   "cell_type": "markdown",
   "execution_count": null,
   "metadata": {
    "papermill": {
     "duration": 0.037918,
     "end_time": "2020-08-23T22:01:30.596511",
     "exception": false,
     "start_time": "2020-08-23T22:01:30.558593",
     "status": "completed"
    },
    "tags": []
   },
   "source": [
    "## Save and Load Model <a id='index29'></a> <a href=\"#top\" class=\"btn btn-primary btn-sm\" role=\"button\" aria-pressed=\"true\" style=\"color:white; margin-left: 20px;\" data-toggle=\"popover\">Go to TOC</a>"
   ]
  },
  {
   "cell_type": "code",
   "execution_count": 50,
   "metadata": {
    "execution": {
     "iopub.execute_input": "2020-08-23T22:01:30.689930Z",
     "iopub.status.busy": "2020-08-23T22:01:30.679331Z",
     "iopub.status.idle": "2020-08-23T22:01:31.528029Z",
     "shell.execute_reply": "2020-08-23T22:01:31.527178Z"
    },
    "papermill": {
     "duration": 0.895055,
     "end_time": "2020-08-23T22:01:31.528179",
     "exception": false,
     "start_time": "2020-08-23T22:01:30.633124",
     "status": "completed"
    },
    "tags": []
   },
   "outputs": [
    {
     "data": {
      "text/plain": [
       "SuperLearner(array_check=None, backend=None, folds=10,\n",
       "       layers=[Layer(backend='threading', dtype=<class 'numpy.float32'>, n_jobs=-1,\n",
       "   name='layer-1', propagate_features=None, raise_on_exception=True,\n",
       "   random_state=None, shuffle=False,\n",
       "   stack=[Group(backend='threading', dtype=<class 'numpy.float32'>,\n",
       "   indexer=FoldIndex(X=None, folds=10, raise_on_e...00649e0>)],\n",
       "   n_jobs=-1, name='group-1', raise_on_exception=True, transformers=[])],\n",
       "   verbose=0)],\n",
       "       model_selection=False, n_jobs=None, raise_on_exception=True,\n",
       "       random_state=None, sample_size=989,\n",
       "       scorer=<function accuracy_score at 0x7f36f00649e0>, shuffle=False,\n",
       "       verbose=False)"
      ]
     },
     "execution_count": 50,
     "metadata": {},
     "output_type": "execute_result"
    }
   ],
   "source": [
    "import pickle\n",
    "Pkl_Filename = \"Pickle_Model.pkl\"  \n",
    "\n",
    "# Save the Modle to file in the current working directory\n",
    "with open(Pkl_Filename, 'wb') as file:  \n",
    "    pickle.dump(ensemble, file)\n",
    "    \n",
    "# Load the Model back from file\n",
    "with open(Pkl_Filename, 'rb') as file:  \n",
    "    Pickled_ensemble = pickle.load(file)\n",
    "\n",
    "Pickled_ensemble"
   ]
  },
  {
   "cell_type": "markdown",
   "execution_count": null,
   "metadata": {
    "papermill": {
     "duration": 0.039614,
     "end_time": "2020-08-23T22:01:31.606151",
     "exception": false,
     "start_time": "2020-08-23T22:01:31.566537",
     "status": "completed"
    },
    "tags": []
   },
   "source": [
    "## Conclusion <a id='index30'></a> <a href=\"#top\" class=\"btn btn-primary btn-sm\" role=\"button\" aria-pressed=\"true\" style=\"color:white; margin-left: 20px;\" data-toggle=\"popover\">Go to TOC</a>\n",
    "\n",
    "The best strategy to achieve the highest accuracy was:\n",
    "+ Pre-Processing\n",
    "   - OneHotEnconding to Country and remove Estonia Column.\n",
    "   - LabelEnconding to 'Sex' and 'Category'\n",
    "   - StandScale to 'Age'\n",
    "+ Do not use any corrected unbalanced data set technique because it decreases accuracy to increase f1-score\n",
    "+ The best model was the SuperLeaner that combines several models, while individually it was AdaBoost\n",
    "\n",
    "**Nexts Steps**\n",
    "\n",
    "+ Tuning AdaBoost and SuperLeaner"
   ]
  }
 ],
 "metadata": {
  "kernelspec": {
   "display_name": "Python 3",
   "language": "python",
   "name": "python3"
  },
  "language_info": {
   "codemirror_mode": {
    "name": "ipython",
    "version": 3
   },
   "file_extension": ".py",
   "mimetype": "text/x-python",
   "name": "python",
   "nbconvert_exporter": "python",
   "pygments_lexer": "ipython3",
   "version": "3.7.6"
  },
  "papermill": {
   "duration": 62.221763,
   "end_time": "2020-08-23T22:01:31.754009",
   "environment_variables": {},
   "exception": null,
   "input_path": "__notebook__.ipynb",
   "output_path": "__notebook__.ipynb",
   "parameters": {},
   "start_time": "2020-08-23T22:00:29.532246",
   "version": "2.1.0"
  }
 },
 "nbformat": 4,
 "nbformat_minor": 4
}
